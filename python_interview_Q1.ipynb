{
 "cells": [
  {
   "cell_type": "code",
   "execution_count": null,
   "metadata": {},
   "outputs": [],
   "source": [
    "# https://chatgpt.com/c/67a11545-4448-8004-9f5f-25278e133164\n",
    "\n",
    "# https://chatgpt.com/g/g-cKXjWStaE-python/c/67a115f7-9408-8004-8f96-29e3c663eb37\n",
    "\n",
    "# https://chatgpt.com/g/g-cKXjWStaE-python/c/67a1e915-a978-8004-8cc1-43c5a5b0048c\n",
    "\n",
    "# https://prepinsta.com/interview-preparation/technical-interview-questions/python/"
   ]
  },
  {
   "cell_type": "code",
   "execution_count": 7,
   "metadata": {},
   "outputs": [
    {
     "name": "stdout",
     "output_type": "stream",
     "text": [
      "['t']\n"
     ]
    }
   ],
   "source": [
    "str1=\"RohIt\"\n",
    "str2=\"asmita\"\n",
    "\n",
    "commom_list=[]\n",
    "\n",
    "for char in str1:\n",
    "    for char1 in str2:\n",
    "        if char==char1:\n",
    "            commom_list.append(char)\n",
    "\n",
    "print(commom_list)\n"
   ]
  },
  {
   "cell_type": "code",
   "execution_count": null,
   "metadata": {},
   "outputs": [
    {
     "name": "stdout",
     "output_type": "stream",
     "text": [
      "1\n",
      "2\n",
      "3\n",
      "4\n",
      "5\n",
      "6\n"
     ]
    }
   ],
   "source": [
    "def prac_function(*args):\n",
    "    for ARG in args:\n",
    "        print(ARG)\n",
    "\n",
    "\n",
    "prac_function(1,2,3,4,5,6)  #Output: 1 2 3 4 5 6"
   ]
  }
 ],
 "metadata": {
  "kernelspec": {
   "display_name": "base",
   "language": "python",
   "name": "python3"
  },
  "language_info": {
   "codemirror_mode": {
    "name": "ipython",
    "version": 3
   },
   "file_extension": ".py",
   "mimetype": "text/x-python",
   "name": "python",
   "nbconvert_exporter": "python",
   "pygments_lexer": "ipython3",
   "version": "3.11.5"
  }
 },
 "nbformat": 4,
 "nbformat_minor": 2
}
