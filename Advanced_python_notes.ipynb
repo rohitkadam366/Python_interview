{
 "cells": [
  {
   "cell_type": "code",
   "execution_count": 1,
   "metadata": {},
   "outputs": [],
   "source": [
    "# Code yug = https://www.youtube.com/watch?v=R99rLDfuVck&list=PLI4OVrCFuY556CXnJal2pVbzhz0TOxwd_&index=1\n",
    "\n",
    "# https://chatgpt.com/g/g-cKXjWStaE-python/c/67a46274-6d20-8004-9886-fa799982b483"
   ]
  },
  {
   "cell_type": "code",
   "execution_count": 4,
   "metadata": {},
   "outputs": [
    {
     "name": "stdout",
     "output_type": "stream",
     "text": [
      "2: apple\n",
      "3: banana\n",
      "4: cherry\n"
     ]
    }
   ],
   "source": [
    "# 3\n",
    "\n",
    "# The enumerate() function in Python is a powerful and commonly used built-in function that simplifies iteration while \n",
    "# keeping track of an index counter. It is widely used in scenarios where you need both the index and the value from an \n",
    "# iterable.\n",
    "\n",
    "fruits = ['apple', 'banana', 'cherry']\n",
    "\n",
    "for index,fruit in enumerate(fruits,start=2):\n",
    "# for index, fruit in enumerate(fruits):\n",
    "    print(f\"{index}: {fruit}\")\n"
   ]
  },
  {
   "cell_type": "code",
   "execution_count": 9,
   "metadata": {},
   "outputs": [
    {
     "name": "stdout",
     "output_type": "stream",
     "text": [
      "['101:Alice', '102:Bob', '103:Charlie']\n"
     ]
    }
   ],
   "source": [
    "# You can use enumerate() inside a list comprehension to create new lists with indexed elements.\n",
    "\n",
    "names = ['Alice', 'Bob', 'Charlie']\n",
    "\n",
    "index_list = [f\"{index}:{name}\" for index,name in enumerate(names,start=101)]\n",
    "indexed_names = [f\"{i}: {name}\" for i, name in enumerate(names, start=1)]\n",
    "print(index_list)"
   ]
  },
  {
   "cell_type": "code",
   "execution_count": null,
   "metadata": {},
   "outputs": [],
   "source": []
  }
 ],
 "metadata": {
  "kernelspec": {
   "display_name": "Python 3",
   "language": "python",
   "name": "python3"
  },
  "language_info": {
   "codemirror_mode": {
    "name": "ipython",
    "version": 3
   },
   "file_extension": ".py",
   "mimetype": "text/x-python",
   "name": "python",
   "nbconvert_exporter": "python",
   "pygments_lexer": "ipython3",
   "version": "3.11.9"
  }
 },
 "nbformat": 4,
 "nbformat_minor": 2
}
