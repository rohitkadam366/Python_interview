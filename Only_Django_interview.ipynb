{
 "cells": [
  {
   "cell_type": "markdown",
   "metadata": {},
   "source": [
    "#   Django Interview"
   ]
  },
  {
   "cell_type": "markdown",
   "metadata": {},
   "source": [
    "<!-- https://devinterview.io/questions/web-and-mobile-development/django-interview-questions/ -->\n",
    "\n",
    "<!-- https://chatgpt.com/g/g-LCO79N7QT-django-copilot/c/679e6230-aea8-8004-b542-c129eba0db01 -->\n",
    "\n",
    "<!-- https://chatgpt.com/c/679e96db-1f08-8004-b7ea-cdbb7545ff35 -->\n",
    "\n",
    "<!-- https://hackr.io/blog/top-django-interview-questions-and-answers -->"
   ]
  },
  {
   "cell_type": "code",
   "execution_count": null,
   "metadata": {},
   "outputs": [
    {
     "name": "stdout",
     "output_type": "stream",
     "text": [
      "d\n"
     ]
    }
   ],
   "source": [
    "# https://devinterview.io/questions/web-and-mobile-development/django-interview-questions/\n",
    "\n",
    "# <!-- https://chatgpt.com/g/g-LCO79N7QT-django-copilot/c/679e6230-aea8-8004-b542-c129eba0db01 -->\n",
    "\n",
    "# <!-- https://chatgpt.com/c/679e96db-1f08-8004-b7ea-cdbb7545ff35 -->\n",
    "\n",
    "# <!-- https://hackr.io/blog/top-django-interview-questions-and-answers -->"
   ]
  },
  {
   "cell_type": "code",
   "execution_count": 1,
   "metadata": {},
   "outputs": [
    {
     "name": "stdout",
     "output_type": "stream",
     "text": [
      "Rohit\n"
     ]
    }
   ],
   "source": [
    "print(\"Rohit\")"
   ]
  }
 ],
 "metadata": {
  "kernelspec": {
   "display_name": "base",
   "language": "python",
   "name": "python3"
  },
  "language_info": {
   "codemirror_mode": {
    "name": "ipython",
    "version": 3
   },
   "file_extension": ".py",
   "mimetype": "text/x-python",
   "name": "python",
   "nbconvert_exporter": "python",
   "pygments_lexer": "ipython3",
   "version": "3.11.5"
  }
 },
 "nbformat": 4,
 "nbformat_minor": 2
}
