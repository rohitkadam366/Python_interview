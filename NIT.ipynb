{
 "cells": [
  {
   "cell_type": "code",
   "execution_count": null,
   "metadata": {},
   "outputs": [
    {
     "name": "stdout",
     "output_type": "stream",
     "text": [
      "pITIN\n",
      "Not\n"
     ]
    }
   ],
   "source": [
    "# 1.A palindrome number is a number that reads the same forward and backward.\n",
    "\n",
    "name = \"NITIp\"\n",
    "\n",
    "name2 = name[::-1]\n",
    "\n",
    "print(name2)\n",
    "\n",
    "if name == name2:\n",
    "    print(\"its palindrome Number\")\n",
    "else:\n",
    "    print(\"Not\")\n",
    "\n",
    "    "
   ]
  },
  {
   "cell_type": "code",
   "execution_count": 46,
   "metadata": {},
   "outputs": [
    {
     "data": {
      "text/plain": [
       "True"
      ]
     },
     "execution_count": 46,
     "metadata": {},
     "output_type": "execute_result"
    }
   ],
   "source": [
    "#7**  BEST WAY\n",
    "\n",
    "def palino(name):\n",
    "    if len(name)==0:\n",
    "        return True\n",
    "    elif name[0]!=name[-1]:\n",
    "        return False\n",
    "    else:\n",
    "        return palino(name[1:-1])\n",
    "    \n",
    "\n",
    "\n",
    "palino(\"N\")"
   ]
  },
  {
   "cell_type": "code",
   "execution_count": null,
   "metadata": {
    "jupyter": {
     "is_executing": true
    }
   },
   "outputs": [],
   "source": [
    "def palino(x):\n",
    "    x2 = x[::-1]\n",
    "    if x==x2:\n",
    "        print(\"its palindrome Number\")\n",
    "    else:\n",
    "        print(\"Not\")\n",
    "\n",
    "# x= \n",
    "palino(\"NITIN\")"
   ]
  },
  {
   "cell_type": "code",
   "execution_count": null,
   "metadata": {},
   "outputs": [
    {
     "data": {
      "text/plain": [
       "False"
      ]
     },
     "execution_count": 19,
     "metadata": {},
     "output_type": "execute_result"
    }
   ],
   "source": [
    "# 1B --> using Indexing\n",
    "\n",
    "def palino(x):\n",
    "    n= len(x)\n",
    "    for i in range(n):\n",
    "        if x[i] != x[n-i-1]:\n",
    "            return False\n",
    "    return True\n",
    "\n",
    "\n",
    "palino(\"NITIp\")"
   ]
  },
  {
   "cell_type": "code",
   "execution_count": 1,
   "metadata": {},
   "outputs": [
    {
     "data": {
      "text/plain": [
       "True"
      ]
     },
     "execution_count": 1,
     "metadata": {},
     "output_type": "execute_result"
    }
   ],
   "source": [
    "# 1c.  While loop\n",
    "\n",
    "def palino(x):\n",
    "    n = len(x)\n",
    "    start = 0\n",
    "    last = n-1\n",
    "\n",
    "    while(start<last):\n",
    "        if x[start] == x[last]:\n",
    "            start +=1\n",
    "            last +=1 \n",
    "            return True\n",
    "        else:\n",
    "            return False\n",
    "\n",
    "             \n",
    "palino(\"tit\")   "
   ]
  },
  {
   "cell_type": "code",
   "execution_count": 4,
   "metadata": {},
   "outputs": [
    {
     "name": "stdout",
     "output_type": "stream",
     "text": [
      "1\n",
      "4\n",
      "5\n",
      "5\n",
      "4\n",
      "1\n"
     ]
    },
    {
     "data": {
      "text/plain": [
       "True"
      ]
     },
     "execution_count": 4,
     "metadata": {},
     "output_type": "execute_result"
    }
   ],
   "source": [
    "#  Palindrome of NUMBER\n",
    "\n",
    "def palino(num):\n",
    "    temp = num\n",
    "    rev_no = 0\n",
    "    while(temp>0):\n",
    "        digit = temp % 10\n",
    "        print(digit)\n",
    "        rev_no = rev_no*10 + digit\n",
    "        temp = temp //10\n",
    "\n",
    "    if num == rev_no:\n",
    "        return True\n",
    "    else:\n",
    "        return False\n",
    "\n",
    "\n",
    "num = 145541\n",
    "palino(num)"
   ]
  },
  {
   "cell_type": "code",
   "execution_count": null,
   "metadata": {},
   "outputs": [
    {
     "name": "stdout",
     "output_type": "stream",
     "text": [
      "[0, 1, 1, 2, 3, 5, 8, 13, 21, 34, 55, 89, 144]\n"
     ]
    }
   ],
   "source": [
    "# 2. Fibbonachi series = Each number is the sum of the previous two: F(n) = F(n-1) + F(n-2)\n",
    "\n",
    "# 1 for loop\n",
    "\n",
    "\n",
    "list1 = []\n",
    "def fibbonachi1(num):     # in that for loop fib series print upto num are no of iteration\n",
    "    a=0\n",
    "    b=1\n",
    "    for i in range(num):    # imp don't use len(num) bacause num is already int value\n",
    "        c = a+b\n",
    "        list1.append(a)\n",
    "        a,b = b,c        \n",
    "    print(list1)\n",
    "\n",
    "fibbonachi1(13)\n",
    "\n"
   ]
  },
  {
   "cell_type": "code",
   "execution_count": null,
   "metadata": {},
   "outputs": [
    {
     "name": "stdout",
     "output_type": "stream",
     "text": [
      "[0, 1, 1, 2, 3, 5, 8, 13, 21, 34, 55, 89]\n"
     ]
    }
   ],
   "source": [
    "list1 = []\n",
    "\n",
    "def fibbonachi2(num):      # In that fibbonachi series print upto num \n",
    "    a=0\n",
    "    b=1\n",
    "    while(b<num):\n",
    "        list1.append(a)\n",
    "        a,b=b,a+b  \n",
    "\n",
    "    print(list1)    \n",
    "\n",
    "num=15\n",
    "fibbonachi2(num)"
   ]
  },
  {
   "cell_type": "code",
   "execution_count": null,
   "metadata": {},
   "outputs": [
    {
     "name": "stdout",
     "output_type": "stream",
     "text": [
      "0\n",
      "1\n",
      "1\n",
      "2\n",
      "3\n",
      "5\n",
      "8\n",
      "13\n",
      "21\n",
      "34\n"
     ]
    }
   ],
   "source": [
    "#  Best approch\n",
    "\n",
    "def fibbonachi3(num):\n",
    "    if num<=0:\n",
    "        return num\n",
    "    elif num ==1:\n",
    "        return 1\n",
    "    else:\n",
    "        return (fibbonachi3(num-1)+fibbonachi3(num-2))\n",
    "\n",
    "\n",
    "for num in range(10):\n",
    "    print(fibbonachi3(num))\n",
    "\n",
    "\n",
    "    \n",
    "    \n"
   ]
  },
  {
   "cell_type": "code",
   "execution_count": null,
   "metadata": {},
   "outputs": [
    {
     "name": "stdout",
     "output_type": "stream",
     "text": [
      "a4b2c1d3e2\n"
     ]
    }
   ],
   "source": [
    "# 3.Compress String\n",
    "\n",
    "str1=\"aaaabbcdddee\"\n",
    "\n",
    "str2 = \"\"\n",
    "\n",
    "count = 0\n",
    "char1 = str1[0]\n",
    "\n",
    "for char in str1:\n",
    "    if char == char1:\n",
    "        count+=1\n",
    "    else:\n",
    "        str2 = str2+char1+str(count)\n",
    "        count=1\n",
    "        char1 =char\n",
    "\n",
    "\n",
    "str2 = str2+char1+str(count) \n",
    "print(str2)\n"
   ]
  },
  {
   "cell_type": "code",
   "execution_count": null,
   "metadata": {},
   "outputs": [],
   "source": [
    "\n",
    "str1= \"a3b2c3d1\"\n",
    "#output = aaabbcccd\n",
    "str2=\"\"\n",
    "\n",
    "for char in str1:\n",
    "    if char.isalpha():\n",
    "        var=char            # imp here change char to var or next char multiple\n",
    "    else:\n",
    "        num=int(char)\n",
    "        str2 = str2+(var*num)\n",
    "\n",
    "print(str2)"
   ]
  },
  {
   "cell_type": "code",
   "execution_count": 2,
   "metadata": {},
   "outputs": [
    {
     "name": "stdout",
     "output_type": "stream",
     "text": [
      "1\n",
      "2\n",
      "Fizz\n",
      "4\n",
      "Buzz\n",
      "Fizz\n",
      "7\n",
      "8\n",
      "Fizz\n",
      "Buzz\n",
      "11\n",
      "Fizz\n",
      "13\n",
      "14\n",
      "Fizz Buzz\n",
      "16\n",
      "17\n",
      "Fizz\n",
      "19\n"
     ]
    }
   ],
   "source": [
    "# FIZZ BUZZ\n",
    "\n",
    "def fizzbuzz(x):\n",
    "    for i in range(1,x):\n",
    "        if i%3==0 and i%5==0:\n",
    "            print(\"Fizz Buzz\")\n",
    "        elif i%3==0:\n",
    "            print(\"Fizz\")\n",
    "        elif i%5==0:\n",
    "            print(\"Buzz\")\n",
    "\n",
    "        else:\n",
    "            print(i)\n",
    "\n",
    "fizzbuzz(20)\n"
   ]
  },
  {
   "cell_type": "code",
   "execution_count": null,
   "metadata": {},
   "outputs": [
    {
     "name": "stdout",
     "output_type": "stream",
     "text": [
      "{'R': 1, 'o': 1, 'h': 1, 'i': 1, 't': 1, 'K': 1, 'a': 2, 'd': 1, 'm': 13, 'l': 1}\n"
     ]
    }
   ],
   "source": [
    "# cHARACTER OCCURENCE\n",
    "\n",
    "name=\"RohitKadammmmmmmmmmmmml\"\n",
    "\n",
    "dict1 ={}\n",
    "\n",
    "for char in name:\n",
    "    if char not in dict1:\n",
    "        dict1[char] = 1\n",
    "    else:\n",
    "        dict1[char] +=1\n",
    "\n",
    "print(dict1)\n",
    "\n",
    "\n"
   ]
  },
  {
   "cell_type": "code",
   "execution_count": 13,
   "metadata": {},
   "outputs": [
    {
     "name": "stdout",
     "output_type": "stream",
     "text": [
      "{'g': 2, 'r': 1, 't': 3, 'd': 1}\n"
     ]
    }
   ],
   "source": [
    "def char_occurence(x):\n",
    "    dict1 = {}\n",
    "    for char in x:\n",
    "        if char not in dict1:\n",
    "            dict1[char]=1\n",
    "        else:\n",
    "            dict1[char]+=1\n",
    "\n",
    "    print(dict1)    \n",
    "\n",
    "char_occurence(\"ggrtttd\")"
   ]
  },
  {
   "cell_type": "code",
   "execution_count": 16,
   "metadata": {},
   "outputs": [
    {
     "data": {
      "text/plain": [
       "False"
      ]
     },
     "execution_count": 16,
     "metadata": {},
     "output_type": "execute_result"
    }
   ],
   "source": [
    "# Prime number code\n",
    "\n",
    "def prime_number(num):\n",
    "    for i in range(2,(num//2)+1):\n",
    "        if num%i ==0:\n",
    "            return True\n",
    "        else:\n",
    "            return False\n",
    "        \n",
    "prime_number(17)"
   ]
  },
  {
   "cell_type": "code",
   "execution_count": null,
   "metadata": {},
   "outputs": [],
   "source": [
    "# Write a program that enter no is prime or not:\n",
    "\n",
    "def prime_no(num):\n",
    "    for i in range(2,int((num//2))+1):\n",
    "\n",
    "        if num%i==0:\n",
    "            return \"Not Prime\"\n",
    "        else:\n",
    "            return \"Prime\"\n",
    "\n",
    "    \n",
    "prime_no(17)"
   ]
  },
  {
   "cell_type": "code",
   "execution_count": null,
   "metadata": {},
   "outputs": [
    {
     "name": "stdout",
     "output_type": "stream",
     "text": [
      "12 11\n"
     ]
    }
   ],
   "source": [
    "#Find Max1 and 2nd max\n",
    "\n",
    "my_array = [7, 12, 9, 4, 11]\n",
    "\n",
    "def my_fun(a):\n",
    "    max1 = max2 = -1\n",
    "    for i in my_array:\n",
    "        if i > max1:\n",
    "            max1 = i\n",
    "    # Way 1        \n",
    "    # for i in my_array:\n",
    "    #     if i != max1 and i >max2:\n",
    "    #         max2 = i\n",
    "\n",
    "    # way2\n",
    "        elif i != max1 and i > max2:\n",
    "            max2 = i    \n",
    "            \n",
    "    return max1 , max2\n",
    "    \n",
    "c,b = my_fun(my_array)                # for store result value in var for further use\n",
    "\n",
    "print(c,b)"
   ]
  },
  {
   "cell_type": "code",
   "execution_count": null,
   "metadata": {},
   "outputs": [],
   "source": []
  },
  {
   "cell_type": "code",
   "execution_count": null,
   "metadata": {},
   "outputs": [],
   "source": []
  }
 ],
 "metadata": {
  "kernelspec": {
   "display_name": "Python 3",
   "language": "python",
   "name": "python3"
  },
  "language_info": {
   "codemirror_mode": {
    "name": "ipython",
    "version": 3
   },
   "file_extension": ".py",
   "mimetype": "text/x-python",
   "name": "python",
   "nbconvert_exporter": "python",
   "pygments_lexer": "ipython3",
   "version": "3.11.0"
  }
 },
 "nbformat": 4,
 "nbformat_minor": 2
}
