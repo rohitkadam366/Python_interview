{
 "cells": [
  {
   "cell_type": "code",
   "execution_count": 144,
   "metadata": {},
   "outputs": [
    {
     "name": "stdout",
     "output_type": "stream",
     "text": [
      "<class 'set'>\n"
     ]
    }
   ],
   "source": [
    "# Create Empty Set use set() except data={} that tyle is Dict\n",
    "data=set()\n",
    "print(type(data))\n"
   ]
  },
  {
   "cell_type": "code",
   "execution_count": 145,
   "metadata": {},
   "outputs": [
    {
     "name": "stdout",
     "output_type": "stream",
     "text": [
      "-4\n",
      "-4.0\n"
     ]
    }
   ],
   "source": [
    "# In Python, floor division is an operation that divides two numbers and rounds down the result to the nearest whole number.\n",
    "# Operation\tSyntax\tExample\tResult\n",
    "# Regular Division\t/\t7 / 2\t3.5\n",
    "# Floor Division\t//\t7 // 2\t3\n",
    "\n",
    "# floor division of -10//3 is -4 beacause -4 is nearest and -3 is ceil value \n",
    "print(-10//3)\n",
    "\n",
    "# in python any Argument is float value then its output also float value.\n",
    "print(-10.0//3)"
   ]
  },
  {
   "cell_type": "code",
   "execution_count": 146,
   "metadata": {},
   "outputs": [
    {
     "name": "stdout",
     "output_type": "stream",
     "text": [
      "\"\"\" I can't \" Read\"......\"\"\"\n"
     ]
    }
   ],
   "source": [
    "# in python use \\ for print ' '' ''' in string sentence\n",
    "print(\"\\\"\\\"\\\" I can\\'t \\\" Read\\\"......\\\"\\\"\\\"\")"
   ]
  },
  {
   "cell_type": "code",
   "execution_count": 147,
   "metadata": {},
   "outputs": [
    {
     "name": "stdout",
     "output_type": "stream",
     "text": [
      "/\\/\\/\\/\\/\\/\\\n"
     ]
    }
   ],
   "source": [
    "print(\"/\\\\/\\\\/\\\\/\\\\/\\\\/\\\\\")"
   ]
  },
  {
   "cell_type": "code",
   "execution_count": 148,
   "metadata": {},
   "outputs": [
    {
     "name": "stdout",
     "output_type": "stream",
     "text": [
      "\n"
     ]
    }
   ],
   "source": [
    "#here Step size is -2 from index 2 that step size goes to R-->L hence that not get end value hence below output is Empty Str.\n",
    "str1 =\"shantanu\"\n",
    "\n",
    "print(str1[2:8:-2])"
   ]
  },
  {
   "cell_type": "code",
   "execution_count": 149,
   "metadata": {},
   "outputs": [],
   "source": [
    "# In Dict don't have duplicate key value. iF have then key give latest value.--> len()"
   ]
  },
  {
   "cell_type": "code",
   "execution_count": 150,
   "metadata": {},
   "outputs": [
    {
     "name": "stdout",
     "output_type": "stream",
     "text": [
      "114\n",
      "82\n",
      "False\n",
      "True\n"
     ]
    }
   ],
   "source": [
    "# == false because ord number for each character is different.\n",
    "name=\"rohit\"\n",
    "name2=\"Rohit\"\n",
    "print(ord('r'))\n",
    "print(ord('R'))\n",
    "print(name==name2)\n",
    "print(name>=name2)"
   ]
  },
  {
   "cell_type": "code",
   "execution_count": 151,
   "metadata": {},
   "outputs": [],
   "source": [
    "# Key Principles of PEP 8\n",
    "# Here are some of the core guidelines from PEP 8:\n",
    "\n",
    "# Indentation:\n",
    "\n",
    "# Use 4 spaces per indentation level. Avoid using tabs.\n",
    "# python\n",
    "# Copy code\n",
    "# def my_function():\n",
    "#     x = 10\n",
    "#     return x\n",
    "# Maximum Line Length:\n",
    "\n",
    "# Limit all lines to a maximum of 79 characters for code and 72 characters for comments and docstrings.\n",
    "# If necessary, use parentheses to break up long lines.\n",
    "# Blank Lines:\n",
    "\n",
    "# Use blank lines to separate classes and functions, and to organize sections of code within functions.\n",
    "# Top-level functions and classes should be separated by two blank lines.\n",
    "# Methods inside a class should be separated by one blank line.\n",
    "# Imports:\n",
    "\n",
    "# Imports should be on separate lines and at the top of the file.\n",
    "# Group imports in the following order:\n",
    "# Standard library imports\n",
    "# Related third-party imports\n",
    "# Local application/library-specific imports\n",
    "# python\n",
    "# Copy code\n",
    "# import os\n",
    "# import sys\n",
    "\n",
    "# from django.conf import settings\n",
    "# from myapp.models import MyModel\n",
    "# Naming Conventions:\n",
    "\n",
    "# Variables and functions: Use lowercase words with underscores (snake_case), like calculate_total.\n",
    "# Constants: Use all uppercase letters with underscores, like MAX_VALUE.\n",
    "# Classes: Use CapitalizedWords (PascalCase), like EmployeeRecord.\n",
    "# Private members: Prefix with a single underscore (e.g., _private_var) to indicate that a variable or method is intended for internal use within a class/module.\n",
    "# Spacing:\n",
    "\n",
    "# Avoid extra spaces inside parentheses, brackets, or braces:\n",
    "# python\n",
    "# Copy code\n",
    "# my_list = [1, 2, 3]\n",
    "# Add a single space around operators (+, -, =, etc.), but avoid spaces around = in keyword arguments.\n",
    "# python\n",
    "# Copy code\n",
    "# x = y + 2\n",
    "# my_function(arg=10)\n",
    "# Docstrings and Comments:\n",
    "\n",
    "# Use docstrings to describe the purpose of modules, classes, and functions. Use triple quotes (\"\"\") for docstrings, even for one-liners.\n",
    "# Use inline comments sparingly to explain code that may not be immediately clear, and start them with # and a space.\n",
    "# Function and Variable Annotations:\n",
    "\n",
    "# Use annotations to hint at the data types of variables and function arguments/results when helpful."
   ]
  },
  {
   "cell_type": "code",
   "execution_count": 152,
   "metadata": {},
   "outputs": [
    {
     "name": "stdout",
     "output_type": "stream",
     "text": [
      "['blue', 'is', 'Sky']\n",
      "blue is Sky\n"
     ]
    }
   ],
   "source": [
    "input= \"Sky is blue\"\n",
    "# output = \"blue is Sky\"\n",
    "\n",
    "list1=input.split()\n",
    "\n",
    "list2=list1[::-1]\n",
    "print(list2)\n",
    "\n",
    "str3=\" \".join(list2)\n",
    "print(str3)\n",
    "\n",
    "\n"
   ]
  },
  {
   "cell_type": "code",
   "execution_count": 153,
   "metadata": {},
   "outputs": [
    {
     "name": "stdout",
     "output_type": "stream",
     "text": [
      "[1, 4]\n"
     ]
    }
   ],
   "source": [
    "List =[1,2,2,3,3,4,5,5,5,6,6]\n",
    "# output=[1,4]\n",
    "\n",
    "new_list=[]\n",
    "count=1\n",
    "for num in List:\n",
    "    if List.count(num)==1:\n",
    "        new_list.append(num)\n",
    "\n",
    "print(new_list)\n"
   ]
  },
  {
   "cell_type": "code",
   "execution_count": 154,
   "metadata": {},
   "outputs": [
    {
     "name": "stdout",
     "output_type": "stream",
     "text": [
      "['a:3', 'b:2', 'c:3']\n",
      "a:3,b:2,c:3\n"
     ]
    }
   ],
   "source": [
    "mystr=\"a,a,a,b,b,c,c,c\"\n",
    "# output=a:3,b:2,c:3\n",
    "\n",
    "mystr2=mystr.split(',')\n",
    "visted=[]\n",
    "final_list=[]\n",
    "for char in mystr2:\n",
    "    if char not in visted:\n",
    "        final_list.append(f\"{char}:{mystr2.count(char)}\")\n",
    "        visted.append(char)\n",
    "\n",
    "\n",
    "print(final_list)\n",
    "print(','.join(final_list))    ##Importance Step"
   ]
  },
  {
   "cell_type": "code",
   "execution_count": 155,
   "metadata": {},
   "outputs": [
    {
     "name": "stdout",
     "output_type": "stream",
     "text": [
      "2265300122368\n",
      "2265300121344\n",
      "True\n",
      "False\n"
     ]
    }
   ],
   "source": [
    "# what is difference between is and == operator in python?\n",
    "# .\n",
    "# In most cases, use == to compare values, and is when you need to confirm if two variables reference the exact same object.\n",
    "\n",
    "l1=[10,20,30]\n",
    "l2=[10,20,30]\n",
    "\n",
    "print(id(l1))\n",
    "print(id(l2))\n",
    "\n",
    "print(l1==l2)  ## == # checks for equality of values (content of objects).\n",
    "print(l1 is l2)  #is checks for identity (if they are the same instance in memory)."
   ]
  },
  {
   "cell_type": "code",
   "execution_count": 156,
   "metadata": {},
   "outputs": [
    {
     "name": "stdout",
     "output_type": "stream",
     "text": [
      "12\n"
     ]
    }
   ],
   "source": [
    "# Find Min and MAx from list\n",
    "\n",
    "nums = [54,12,74,56,23,45,78,255,123,5561]\n",
    "max1=nums[0]\n",
    "for num in nums:\n",
    "    if num<=max1:\n",
    "        max1=num\n",
    "\n",
    "print(max1)"
   ]
  },
  {
   "cell_type": "code",
   "execution_count": 157,
   "metadata": {},
   "outputs": [],
   "source": [
    "#List Comprehension https://www.youtube.com/watch?v=_24Sq5yM6xI&list=PLI4OVrCFuY5725OhoRi-G2YwnjKXh7v0F&index=16"
   ]
  },
  {
   "cell_type": "code",
   "execution_count": 158,
   "metadata": {},
   "outputs": [
    {
     "name": "stdout",
     "output_type": "stream",
     "text": [
      "['python', 'is', 'easy']\n",
      "['nohtyp', 'si', 'ysae']\n",
      "nohtyp si ysae\n"
     ]
    }
   ],
   "source": [
    "#Interview _quesion\n",
    "str1=\"python is easy\"\n",
    "\n",
    "list1=str1.split()\n",
    "print(list1)\n",
    "\n",
    "list2=[]\n",
    "for word in list1:\n",
    "    a=word[::-1]\n",
    "    list2.append(a)\n",
    "\n",
    "print(list2)\n",
    "str3=' '.join(list2)\n",
    "print(str3)\n",
    "\n"
   ]
  },
  {
   "cell_type": "code",
   "execution_count": 159,
   "metadata": {},
   "outputs": [
    {
     "name": "stdout",
     "output_type": "stream",
     "text": [
      "[14, 84]\n"
     ]
    }
   ],
   "source": [
    "# Print duplicate value fro list\n",
    "List1 = [\"Rohit\",12,14,5,14,14,95,85,84,84]\n",
    "\n",
    "List2=[]\n",
    "\n",
    "for i in range(len(List1)):\n",
    "    for j in range(i+1,len(List1)):\n",
    "        if List1[i]==List1[j] and List1[i] not in List2:\n",
    "            List2.append(List1[i])\n",
    "\n",
    "print(List2)\n"
   ]
  },
  {
   "cell_type": "code",
   "execution_count": 160,
   "metadata": {},
   "outputs": [
    {
     "name": "stdout",
     "output_type": "stream",
     "text": [
      "2\n"
     ]
    }
   ],
   "source": [
    "#Find Number of List Values in Dictionary|Dictionary in Python\n",
    "\n",
    "Dict1 = {'jay':[10,20],'raj':[20,30],'pa':52}\n",
    "\n",
    "count=0\n",
    "for item in Dict1:\n",
    "    if isinstance(Dict1[item],list):\n",
    "        count+=1\n",
    "\n",
    "print(count)"
   ]
  },
  {
   "cell_type": "code",
   "execution_count": 161,
   "metadata": {},
   "outputs": [
    {
     "name": "stdout",
     "output_type": "stream",
     "text": [
      "['cat', 'mat', 'bat', 'cat', 'mat']\n",
      "<class 'dict'>\n",
      "{'cat': 2, 'mat': 2, 'bat': 1}\n",
      "NA\n"
     ]
    }
   ],
   "source": [
    "# Write a program to display the words that are repeated more than or equal to N time in the text.else print NA\n",
    "\n",
    "# str1 = input(\"Enter a text =\")\n",
    "# n = int(input(\"Enter a word no. of times =\"))                                                             imp\n",
    "\n",
    "str1= \"cat mat bat cat mat\"\n",
    "n=int(3)\n",
    "\n",
    "list1=str1.split()\n",
    "print(list1)\n",
    "\n",
    "count_dict={}\n",
    "print(type(count_dict))\n",
    "\n",
    "for item in list1:\n",
    "    if item in count_dict:\n",
    "        count_dict[item]+=1\n",
    "    else:\n",
    "        count_dict[item]=1\n",
    "\n",
    "print(count_dict)\n",
    "word_list=[]\n",
    "for k in count_dict:\n",
    "    if count_dict[k]>=n:\n",
    "        word_list.append(k)\n",
    "\n",
    "if len(word_list)>0:\n",
    "    print(word_list)\n",
    "else:\n",
    "    print(\"NA\")\n",
    "\n"
   ]
  },
  {
   "cell_type": "code",
   "execution_count": 162,
   "metadata": {},
   "outputs": [
    {
     "name": "stdout",
     "output_type": "stream",
     "text": [
      "['A', '7', 'B', '1', 'R', '3']\n",
      "ABR713\n"
     ]
    }
   ],
   "source": [
    "## Write a python program to sort characters and no so that 1st alphabets and then numbers are printed.\n",
    "\n",
    "str1=\"A7B1R3\"\n",
    "# output=ABR713\n",
    "\n",
    "str1=list(str1)\n",
    "print(str1)\n",
    "\n",
    "str2=[]\n",
    "str3=[]\n",
    "\n",
    "for i in str1:\n",
    "    if i.isalpha():\n",
    "        str2.append(i)\n",
    "    else:\n",
    "        str3.append(i)\n",
    "\n",
    "list1=str2+str3\n",
    "str4=''.join(list1)\n",
    "print(str4)"
   ]
  },
  {
   "cell_type": "code",
   "execution_count": 163,
   "metadata": {},
   "outputs": [
    {
     "name": "stdout",
     "output_type": "stream",
     "text": [
      "[1, 2, 3, 4, 5, 6, 7, 8, 9, 153, 370, 370, 371, 407]\n"
     ]
    }
   ],
   "source": [
    "# Write a python program for printing armstrong numbers between 1 to 1000.\n",
    "list1=[]\n",
    "for num in range(1,1001):\n",
    "    n=len(str(num))\n",
    "    str2=str(num)\n",
    "    sum=0\n",
    "    \n",
    "    for num2 in str2:\n",
    "        sum=sum+int(num2)**n\n",
    "        if sum==num:\n",
    "            list1.append(num)\n",
    "\n",
    "print(list1)\n",
    "\n",
    "#Imp in above problem difficulty is that for len of num first convert to str or {str2=str(num)} in that hee not convert to list directly apply on str logic on that.\n"
   ]
  },
  {
   "cell_type": "code",
   "execution_count": 164,
   "metadata": {},
   "outputs": [
    {
     "name": "stdout",
     "output_type": "stream",
     "text": [
      "[1, 2, 3, 4, 5, 6, 7, 8, 9, 153, 370, 371, 407] "
     ]
    }
   ],
   "source": [
    "# Write a python program for printing armstrong numbers between 1 to 1000.   while loop\n",
    "\n",
    "arr=[]\n",
    "for i in range(1,1000):\n",
    "    abc=i    \n",
    "    lenOfNum = len(str(i))\n",
    "    add = 0\n",
    "    while i > 0:\n",
    "        r = i % 10 \n",
    "        add = add+ (r ** lenOfNum)\n",
    "        i = i //10\n",
    "    if (abc == add):\n",
    "        arr.append(abc)\n",
    "print(arr,end=\" \")\n"
   ]
  },
  {
   "cell_type": "code",
   "execution_count": 165,
   "metadata": {},
   "outputs": [
    {
     "name": "stdout",
     "output_type": "stream",
     "text": [
      "[6, 28, 496]\n"
     ]
    }
   ],
   "source": [
    "# Find 1-1000 perfect number\n",
    "\n",
    "# 28=1+2+4+7+14(Diveder)\n",
    "perfect=[] \n",
    "\n",
    "for num in range(1,1001):\n",
    "    sum=0\n",
    "\n",
    "    for num2 in range(1,num-1): \n",
    "        if num%num2==0:\n",
    "            sum=sum+num2\n",
    "\n",
    "    if sum==num:\n",
    "        perfect.append(num)\n",
    "\n",
    "print(perfect)\n",
    "\n"
   ]
  },
  {
   "cell_type": "code",
   "execution_count": 166,
   "metadata": {},
   "outputs": [
    {
     "name": "stdout",
     "output_type": "stream",
     "text": [
      "[1]\n"
     ]
    }
   ],
   "source": [
    "perfect=[]\n",
    "sum=0\n",
    "i=1\n",
    "for num in range(1,1001):\n",
    "    while i<=num:\n",
    "        if num%i==0:\n",
    "            sum=sum+i\n",
    "        i+=1\n",
    "\n",
    "    if sum==num:\n",
    "        perfect.append(num)\n",
    "print(perfect)        \n",
    "\n",
    "\n"
   ]
  },
  {
   "cell_type": "code",
   "execution_count": 167,
   "metadata": {},
   "outputs": [
    {
     "name": "stdout",
     "output_type": "stream",
     "text": [
      "['R', 'RO', 'ROH', 'ROHI', 'ROHIT', 'O', 'OH', 'OHI', 'OHIT', 'H', 'HI', 'HIT', 'I', 'IT', 'T']\n"
     ]
    }
   ],
   "source": [
    "name =\"ROHIT\"\n",
    "\n",
    "list1=[]\n",
    "\n",
    "for i in range(len(name)):\n",
    "    for j in range(i+1,len(name)+1):     \n",
    "        list1.append(name[i:j])\n",
    "        \n",
    "print(list1)"
   ]
  },
  {
   "cell_type": "code",
   "execution_count": 168,
   "metadata": {},
   "outputs": [
    {
     "name": "stdout",
     "output_type": "stream",
     "text": [
      "aaabbcccd\n"
     ]
    }
   ],
   "source": [
    "## 32.  \n",
    "\n",
    "str1= \"a3b2c3d1\"\n",
    "#output = aaabbcccd\n",
    "str2=\"\"\n",
    "\n",
    "for char in str1:\n",
    "    if char.isalpha():\n",
    "        var=char            # imp here change char to var or next char multiple\n",
    "    else:\n",
    "        num=int(char)\n",
    "        str2 = str2+(var*num)\n",
    "\n",
    "print(str2)"
   ]
  },
  {
   "cell_type": "code",
   "execution_count": 169,
   "metadata": {},
   "outputs": [
    {
     "ename": "SyntaxError",
     "evalue": "incomplete input (2314772546.py, line 27)",
     "output_type": "error",
     "traceback": [
      "\u001b[1;36m  Cell \u001b[1;32mIn[169], line 27\u001b[1;36m\u001b[0m\n\u001b[1;33m    \u001b[0m\n\u001b[1;37m    ^\u001b[0m\n\u001b[1;31mSyntaxError\u001b[0m\u001b[1;31m:\u001b[0m incomplete input\n"
     ]
    }
   ],
   "source": [
    "str1=\"aaaabbcdddee\"\n",
    "\n",
    "\n",
    "str2=\"\"\n",
    "\n",
    "for char in str1:\n",
    "\n",
    "\n",
    "\n",
    "\n",
    "# str2=\"\"\n",
    "# count=0\n",
    "\n",
    "# char1=str1[0]\n",
    "# for char in str1:\n",
    "#     if char==char1:\n",
    "#         count+=1\n",
    "#     else:\n",
    "#         str2=str2+char1+str(count)\n",
    "#         count=1\n",
    "#         char1=char\n",
    "\n",
    "# str2=str2+char1+str(count)       \n",
    "# print(str2)\n",
    "\n",
    "\n",
    "\n"
   ]
  },
  {
   "cell_type": "code",
   "execution_count": null,
   "metadata": {},
   "outputs": [],
   "source": [
    "## Write a python program for Fibonacchi series by using for loop\n",
    "\n",
    "# [0,1,1,2,3,5,8,13,21]\n",
    "temp=0\n",
    "num=1\n",
    "list1=[]\n",
    "sum=0\n",
    "for i in range(1,1001):\n",
    "    \n",
    "\n",
    "\n"
   ]
  },
  {
   "cell_type": "code",
   "execution_count": 1,
   "metadata": {},
   "outputs": [
    {
     "name": "stdout",
     "output_type": "stream",
     "text": [
      "The max value Pair is  (7, 9)\n"
     ]
    }
   ],
   "source": [
    "## Write a program to find product of highest Number pair.\n",
    "\n",
    "array1=[5,3,4,5,7,1,5,9]\n",
    "\n",
    "\n",
    "\n",
    "def max_product(array1):\n",
    "    if len(array1)<2:\n",
    "        print(\"Enter Array is not conatin Pair.\")\n",
    "        return\n",
    "    a=array1[0]\n",
    "    b=array1[1]\n",
    "    for i in range(1,len(array1)):\n",
    "        for j in range(i+1,len(array1)):\n",
    "            if (array1[i]*array1[j]) > (a*b):\n",
    "                a=array1[i]\n",
    "                b=array1[j]\n",
    "                \n",
    "    return a,b\n",
    "\n",
    "\n",
    "# array1 = eval(input(\"Enter a Array =\"))\n",
    "\n",
    "\n",
    "print(\"The max value Pair is \", max_product(array1))\n",
    "\n",
    "\n",
    "\n",
    "    \n"
   ]
  },
  {
   "cell_type": "code",
   "execution_count": 20,
   "metadata": {},
   "outputs": [
    {
     "name": "stdout",
     "output_type": "stream",
     "text": [
      "12\n"
     ]
    }
   ],
   "source": [
    "\n",
    "\n",
    "#You are given 'N' sticks and ith stick has len A[i].\n",
    "# you have to form rectNGULAAR BY CHOOSING Any four sticks.\n",
    "\n",
    "# find the max area of rect. that is possible.\n",
    "\n",
    "# notes:\n",
    "# 1. rect is a fig have opposite siides equal.\n",
    "# 2. A square is also a rect\n",
    "\n",
    "# write a fun rectangle which has following parameters.\n",
    "# 1. no of sticks integer.\n",
    "# 2. integer array denoting len of sticks.\n",
    "\n",
    "# return value :- integer denooting max possible area.\n",
    "\n",
    "def rectangle(sticks,lenghts):\n",
    "    array1=[]\n",
    "    for stk in lenghts:\n",
    "        if lenghts.count(stk)>=2 and stk not in array1:\n",
    "            array1.append(stk)\n",
    "    max_area=0\n",
    "    for i in range(1,len(array1)):\n",
    "        for j in range(i+1,len(array1)):\n",
    "            if (array1[i]*array1[j])>max_area:\n",
    "                max_area=(array1[i]*array1[j])\n",
    "                \n",
    "    return max_area\n",
    "    \n",
    "\n",
    "\n",
    "result=rectangle(8,[2,5,4,8,2,3,3,4])\n",
    "print(result)\n",
    "\n"
   ]
  },
  {
   "cell_type": "code",
   "execution_count": 2,
   "metadata": {},
   "outputs": [
    {
     "name": "stdout",
     "output_type": "stream",
     "text": [
      "['b', 'c', 'd', 'e']\n",
      "['a', 'c', 'd', 'e']\n",
      "1\n",
      "['a', 'b', 'd', 'e']\n",
      "['a', 'b', 'c', 'e']\n",
      "['a', 'b', 'c', 'd']\n",
      "2\n",
      "2\n"
     ]
    }
   ],
   "source": [
    "#You are given a str s of len n and an array of str t containg m str each len n-1.\n",
    "\n",
    "# you need to remove one cha from s such that s become equals to any of m str.\n",
    "\n",
    "# find the total no of str from m given str which can be obtained by removing one char from s.\n",
    "\n",
    "# input:-\n",
    "# 1. len of str s (n):-5\n",
    "# enter str (s):-'abcde'\n",
    "\n",
    "# no of str in t (m):-4\n",
    "# enter str(t) :- ['abcd','abcc','cddd','acde']\n",
    "\n",
    "\n",
    "\n",
    "\n",
    "\n",
    "def equalization(n,s,m,t):\n",
    "    count=0\n",
    "    s1=[]\n",
    "    for ch in s:\n",
    "        s1.append(ch)\n",
    "    \n",
    "    for i in range(n):\n",
    "        char=s1.pop(i)\n",
    "        print(s1)\n",
    "        for word in t:\n",
    "            if \"\".join(s1)==word:\n",
    "                count+=1\n",
    "                print(count)\n",
    "        s1.insert(i,char)\n",
    "        \n",
    "    return count\n",
    "        \n",
    "\n",
    "result=equalization(5,'abcde',4,['abcd','abcc','cddd','acde']) \n",
    "print(result)\n",
    "    \n",
    "\n",
    "# 1. pop()\n",
    "# Use: pop() is used to remove an item at a specified index in a list or a specified key in a dictionary.\n",
    "# Returns Value: It returns the removed item, allowing you to use the value immediately.\n",
    "# If no index is specified, it removes and returns the last item in the list.\n",
    "\n",
    "\n",
    "# del\n",
    "# Use: del is a statement in Python for deleting objects, list items, or dictionary keys.\n",
    "# No Return Value: It does not return the removed item; it just deletes it.\n",
    "# Syntax:\n",
    "# python\n",
    "# Copy code\n",
    "# del list_name[index]  # Removes item at `index` in a list\n",
    "# del dict_name[key]    # Removes the specified `key` in a dictionary\n",
    "\n",
    "\n",
    "\n",
    "\n"
   ]
  },
  {
   "cell_type": "code",
   "execution_count": 3,
   "metadata": {},
   "outputs": [
    {
     "name": "stdout",
     "output_type": "stream",
     "text": [
      "[0, 1]\n"
     ]
    }
   ],
   "source": [
    "# Giiven an array of intergers 'nums' and integer 'target'.return indices of two numbers such that they add up to target.\n",
    "\n",
    "# You may asssume that each input would have exactly one solutions,and you may not use the same element twice.\n",
    "\n",
    "# you can return an in any order.\n",
    "\n",
    "def return_indices(nums,target):\n",
    "    ans=[]\n",
    "    for i in range(len(nums)):\n",
    "        for j in range(i+1,len(nums)):\n",
    "            if nums[i]+nums[j]==target:\n",
    "                ans.append(i)\n",
    "                ans.append(j)\n",
    "      \n",
    "    return ans    \n",
    "        \n",
    "out=return_indices([2,4,3],6)\n",
    "print(out)"
   ]
  },
  {
   "cell_type": "code",
   "execution_count": 16,
   "metadata": {},
   "outputs": [],
   "source": [
    "# que= you have a text file containing employee data.open the file provided to see the data.\n",
    "\n",
    "# wite a py progrem to give bonus==2000 to emp haveing slary>35000\n",
    "# write modifield data into bonus.txt\n",
    "\n",
    "\n",
    "\n",
    "# ANS\n",
    "# First open the file\n",
    "f1=open('emp.txt',mode='r')\n",
    "f2=open('result_emp.txt',mode='w')\n",
    "\n",
    "data=f1.readlines()\n",
    "\n",
    "modified_record=[]\n",
    "\n",
    "header=data[0]\n",
    "modified_record.append(header)\n",
    "\n",
    "for record in data[1:len(data)+1]:\n",
    "    my_record=record.split(\"|\")\n",
    "    salary=float(my_record[2])\n",
    "    if salary>=35000:\n",
    "        bonus=2000\n",
    "        modified_record.append(f\"{my_record[0]}|{my_record[1]}|{float(my_record[2])+bonus}\\n\")\n",
    "\n",
    "    else:\n",
    "        modified_record.append(f\"{my_record[0]}|{my_record[1]}|{float(my_record[2])}\\n\")\n",
    "\n",
    "f2.writelines(modified_record)\n",
    "\n",
    "f1.close()\n",
    "f2.close()"
   ]
  },
  {
   "cell_type": "code",
   "execution_count": 17,
   "metadata": {},
   "outputs": [
    {
     "name": "stdout",
     "output_type": "stream",
     "text": [
      "press 'Enter' to continue and 'ctrl+c' to stop sec hand of clock\n"
     ]
    },
    {
     "ename": "KeyboardInterrupt",
     "evalue": "Interrupted by user",
     "output_type": "error",
     "traceback": [
      "\u001b[1;31m---------------------------------------------------------------------------\u001b[0m",
      "\u001b[1;31mKeyboardInterrupt\u001b[0m                         Traceback (most recent call last)",
      "Cell \u001b[1;32mIn[17], line 51\u001b[0m\n\u001b[0;32m     47\u001b[0m                         \u001b[38;5;28mprint\u001b[39m(\u001b[38;5;124mf\u001b[39m\u001b[38;5;124m\"\u001b[39m\u001b[38;5;124mFinal result of gave is \u001b[39m\u001b[38;5;132;01m{\u001b[39;00mpoint_table\u001b[38;5;132;01m}\u001b[39;00m\u001b[38;5;124m\"\u001b[39m)\n\u001b[0;32m     48\u001b[0m                         \u001b[38;5;28;01mreturn\u001b[39;00m\n\u001b[1;32m---> 51\u001b[0m \u001b[43mrun\u001b[49m\u001b[43m(\u001b[49m\u001b[43m)\u001b[49m\n",
      "Cell \u001b[1;32mIn[17], line 17\u001b[0m, in \u001b[0;36mrun\u001b[1;34m()\u001b[0m\n\u001b[0;32m     15\u001b[0m \u001b[38;5;28mprint\u001b[39m(\u001b[38;5;124m\"\u001b[39m\u001b[38;5;124mpress \u001b[39m\u001b[38;5;124m'\u001b[39m\u001b[38;5;124mEnter\u001b[39m\u001b[38;5;124m'\u001b[39m\u001b[38;5;124m to continue and \u001b[39m\u001b[38;5;124m'\u001b[39m\u001b[38;5;124mctrl+c\u001b[39m\u001b[38;5;124m'\u001b[39m\u001b[38;5;124m to stop sec hand of clock\u001b[39m\u001b[38;5;124m\"\u001b[39m)\n\u001b[0;32m     16\u001b[0m attempt\u001b[38;5;241m=\u001b[39m\u001b[38;5;241m1\u001b[39m\n\u001b[1;32m---> 17\u001b[0m name\u001b[38;5;241m=\u001b[39m\u001b[38;5;28;43minput\u001b[39;49m\u001b[43m(\u001b[49m\u001b[38;5;124;43m\"\u001b[39;49m\u001b[38;5;124;43mEnter name of player :\u001b[39;49m\u001b[38;5;124;43m\"\u001b[39;49m\u001b[43m)\u001b[49m\n\u001b[0;32m     18\u001b[0m point\u001b[38;5;241m=\u001b[39m\u001b[38;5;241m0\u001b[39m\n\u001b[0;32m     19\u001b[0m point_table\u001b[38;5;241m=\u001b[39m{}\n",
      "File \u001b[1;32mc:\\Users\\rohit.kadam\\Desktop\\Python_django\\.venv\\Lib\\site-packages\\ipykernel\\kernelbase.py:1282\u001b[0m, in \u001b[0;36mKernel.raw_input\u001b[1;34m(self, prompt)\u001b[0m\n\u001b[0;32m   1280\u001b[0m     msg \u001b[38;5;241m=\u001b[39m \u001b[38;5;124m\"\u001b[39m\u001b[38;5;124mraw_input was called, but this frontend does not support input requests.\u001b[39m\u001b[38;5;124m\"\u001b[39m\n\u001b[0;32m   1281\u001b[0m     \u001b[38;5;28;01mraise\u001b[39;00m StdinNotImplementedError(msg)\n\u001b[1;32m-> 1282\u001b[0m \u001b[38;5;28;01mreturn\u001b[39;00m \u001b[38;5;28;43mself\u001b[39;49m\u001b[38;5;241;43m.\u001b[39;49m\u001b[43m_input_request\u001b[49m\u001b[43m(\u001b[49m\n\u001b[0;32m   1283\u001b[0m \u001b[43m    \u001b[49m\u001b[38;5;28;43mstr\u001b[39;49m\u001b[43m(\u001b[49m\u001b[43mprompt\u001b[49m\u001b[43m)\u001b[49m\u001b[43m,\u001b[49m\n\u001b[0;32m   1284\u001b[0m \u001b[43m    \u001b[49m\u001b[38;5;28;43mself\u001b[39;49m\u001b[38;5;241;43m.\u001b[39;49m\u001b[43m_parent_ident\u001b[49m\u001b[43m[\u001b[49m\u001b[38;5;124;43m\"\u001b[39;49m\u001b[38;5;124;43mshell\u001b[39;49m\u001b[38;5;124;43m\"\u001b[39;49m\u001b[43m]\u001b[49m\u001b[43m,\u001b[49m\n\u001b[0;32m   1285\u001b[0m \u001b[43m    \u001b[49m\u001b[38;5;28;43mself\u001b[39;49m\u001b[38;5;241;43m.\u001b[39;49m\u001b[43mget_parent\u001b[49m\u001b[43m(\u001b[49m\u001b[38;5;124;43m\"\u001b[39;49m\u001b[38;5;124;43mshell\u001b[39;49m\u001b[38;5;124;43m\"\u001b[39;49m\u001b[43m)\u001b[49m\u001b[43m,\u001b[49m\n\u001b[0;32m   1286\u001b[0m \u001b[43m    \u001b[49m\u001b[43mpassword\u001b[49m\u001b[38;5;241;43m=\u001b[39;49m\u001b[38;5;28;43;01mFalse\u001b[39;49;00m\u001b[43m,\u001b[49m\n\u001b[0;32m   1287\u001b[0m \u001b[43m\u001b[49m\u001b[43m)\u001b[49m\n",
      "File \u001b[1;32mc:\\Users\\rohit.kadam\\Desktop\\Python_django\\.venv\\Lib\\site-packages\\ipykernel\\kernelbase.py:1325\u001b[0m, in \u001b[0;36mKernel._input_request\u001b[1;34m(self, prompt, ident, parent, password)\u001b[0m\n\u001b[0;32m   1322\u001b[0m \u001b[38;5;28;01mexcept\u001b[39;00m \u001b[38;5;167;01mKeyboardInterrupt\u001b[39;00m:\n\u001b[0;32m   1323\u001b[0m     \u001b[38;5;66;03m# re-raise KeyboardInterrupt, to truncate traceback\u001b[39;00m\n\u001b[0;32m   1324\u001b[0m     msg \u001b[38;5;241m=\u001b[39m \u001b[38;5;124m\"\u001b[39m\u001b[38;5;124mInterrupted by user\u001b[39m\u001b[38;5;124m\"\u001b[39m\n\u001b[1;32m-> 1325\u001b[0m     \u001b[38;5;28;01mraise\u001b[39;00m \u001b[38;5;167;01mKeyboardInterrupt\u001b[39;00m(msg) \u001b[38;5;28;01mfrom\u001b[39;00m \u001b[38;5;28;01mNone\u001b[39;00m\n\u001b[0;32m   1326\u001b[0m \u001b[38;5;28;01mexcept\u001b[39;00m \u001b[38;5;167;01mException\u001b[39;00m:\n\u001b[0;32m   1327\u001b[0m     \u001b[38;5;28mself\u001b[39m\u001b[38;5;241m.\u001b[39mlog\u001b[38;5;241m.\u001b[39mwarning(\u001b[38;5;124m\"\u001b[39m\u001b[38;5;124mInvalid Message:\u001b[39m\u001b[38;5;124m\"\u001b[39m, exc_info\u001b[38;5;241m=\u001b[39m\u001b[38;5;28;01mTrue\u001b[39;00m)\n",
      "\u001b[1;31mKeyboardInterrupt\u001b[0m: Interrupted by user"
     ]
    }
   ],
   "source": [
    "# Suppose, there is an analog clock having sec hand only.User has 3 attemps to stop second hand.\n",
    "# usr willl be awarded with points a/c to following:-\n",
    "# -if sec hand stop at [1,5,9,11] :-10points\n",
    "# -if sec hand stop at [4,7,8,10] :- 20points\n",
    "# -if sec hand stop at [3,2,6,12] :- 30points\n",
    "\n",
    "# Also, consider there are three player,declare the winner oof the game.\n",
    "# note:- Imagine sec hand stops only at digit of clock.\n",
    "\n",
    "# sample run:- press 'Enter' to continue and 'ctrl+c' to stop sec hand of clock:\n",
    "\n",
    "from time import sleep \n",
    "\n",
    "def run():\n",
    "    print(\"press 'Enter' to continue and 'ctrl+c' to stop sec hand of clock\")\n",
    "    attempt=1\n",
    "    name=input(\"Enter name of player :\")\n",
    "    point=0\n",
    "    point_table={}\n",
    "    \n",
    "    while True:\n",
    "        for digit in range(1,13):\n",
    "            try:\n",
    "                print(digit)\n",
    "                sleep(0.4)\n",
    "            except KeyboardInterrupt:\n",
    "                print(f\"Stopped at {digit}\")\n",
    "                print(\"Point are Added.\")\n",
    "                sleep(2)\n",
    "                if digit in [1,5,9,11]:\n",
    "                    point=point+10\n",
    "                elif digit in [4,7,8,10]:\n",
    "                    point=point+20\n",
    "                elif digit in [3,2,6,12]:\n",
    "                    point=point+30\n",
    "                attempt+=1\n",
    "                if attempt==4:\n",
    "                    print(f'Final Score of {name} is {point}.')\n",
    "                    point_table[name]=point\n",
    "                    ans=input(\"Are you continue y/n =\")\n",
    "                    ans=ans.lower()\n",
    "                    if ans==\"y\":\n",
    "                        point=0\n",
    "                        attempt=1\n",
    "                        name=input(\"Enter name of player :\")\n",
    "                    else:\n",
    "                        print(f\"Final result of gave is {point_table}\")\n",
    "                        return\n",
    "                \n",
    "    \n",
    "run()\n"
   ]
  },
  {
   "cell_type": "code",
   "execution_count": null,
   "metadata": {},
   "outputs": [],
   "source": [
    "list1 = ['xyz',121]\n",
    "\n",
    "for i in list1:\n",
    "    list1.append(i)\n",
    "    print(i,end=\" \")"
   ]
  },
  {
   "cell_type": "code",
   "execution_count": 18,
   "metadata": {},
   "outputs": [
    {
     "name": "stdout",
     "output_type": "stream",
     "text": [
      "2000.0\n",
      "<class 'float'>\n"
     ]
    }
   ],
   "source": [
    "var=2e3\n",
    "\n",
    "print(var)\n",
    "print(type(var))  # what isdata type = float"
   ]
  },
  {
   "cell_type": "code",
   "execution_count": null,
   "metadata": {},
   "outputs": [
    {
     "name": "stdout",
     "output_type": "stream",
     "text": [
      "3\n"
     ]
    }
   ],
   "source": [
    "var = {10,20,10,10,20,30,20,30,30}  # set donnot have duplicate value\n",
    "\n",
    "print(len(var))"
   ]
  },
  {
   "cell_type": "code",
   "execution_count": 22,
   "metadata": {},
   "outputs": [
    {
     "name": "stdout",
     "output_type": "stream",
     "text": [
      "ROhit Kadam\n",
      "ROhit Kadam\n",
      "ROhit Kadam\n",
      "RK\n"
     ]
    }
   ],
   "source": [
    "# While loop with else \n",
    "\n",
    "count=1\n",
    "\n",
    "while count<=3:\n",
    "    print(\"ROhit Kadam\")\n",
    "    count+=1\n",
    "\n",
    "else:\n",
    "    print('RK')"
   ]
  },
  {
   "cell_type": "code",
   "execution_count": 23,
   "metadata": {},
   "outputs": [
    {
     "name": "stdout",
     "output_type": "stream",
     "text": [
      "ROhit Kadam\n"
     ]
    }
   ],
   "source": [
    "# While loop with else if in while loop have break then that directly brak the while loop or else also \n",
    "\n",
    "count=1\n",
    "\n",
    "while count<=3:\n",
    "    print(\"ROhit Kadam\")\n",
    "    count+=1\n",
    "    if count==2:\n",
    "        break\n",
    "\n",
    "else:\n",
    "    print('RK')"
   ]
  },
  {
   "cell_type": "code",
   "execution_count": 24,
   "metadata": {},
   "outputs": [
    {
     "name": "stdout",
     "output_type": "stream",
     "text": [
      "RRR\n",
      "AAA\n",
      "AAA\n",
      "AAA\n",
      "RRR\n",
      "AAA\n",
      "AAA\n",
      "AAA\n",
      "RRR\n",
      "AAA\n",
      "AAA\n",
      "AAA\n",
      "RRR\n",
      "AAA\n",
      "AAA\n",
      "AAA\n"
     ]
    }
   ],
   "source": [
    "##  Nested While loop\n",
    "\n",
    "# Syntax = \n",
    "# While condition:\n",
    "#     Statement\n",
    "#     while condition2:\n",
    "#         Statement2\n",
    "##Rest of code\n",
    "\n",
    "i=1\n",
    "\n",
    "while i<=4:\n",
    "    print(\"RRR\")\n",
    "    j=1\n",
    "    while j<4:\n",
    "        print(\"AAA\")\n",
    "        j+=1\n",
    "    i+=1\n",
    "\n",
    "    \n",
    "\n"
   ]
  },
  {
   "cell_type": "code",
   "execution_count": 37,
   "metadata": {},
   "outputs": [
    {
     "data": {
      "text/plain": [
       "'e'"
      ]
     },
     "execution_count": 37,
     "metadata": {},
     "output_type": "execute_result"
    }
   ],
   "source": [
    "# From L1 print orange-->e\n",
    "\n",
    "L1 = [1,2,3,4,['python','java','c++',(10,20,30)],5,6,7,[\"apple\",\"banana\",\"orange\"]]\n",
    "\n",
    "# list2=L1[8]\n",
    "\n",
    "# str3=list2[2]\n",
    "\n",
    "# print(str3[5])\n",
    "\n",
    "L1[-1][-1][-1]"
   ]
  },
  {
   "cell_type": "code",
   "execution_count": 43,
   "metadata": {},
   "outputs": [
    {
     "name": "stdout",
     "output_type": "stream",
     "text": [
      "[2, 4, 4, 4, 5, 6, 10, 25, 85, 89, 222]\n",
      "[2, 4, 4, 4, 5, 6, 10, 25, 85, 89, 222]\n",
      "['3', '6', '6', 'A', 'A', 'D', 'K', 'M', 'h', 'i', 'o', 'r', 't']\n"
     ]
    }
   ],
   "source": [
    "# sort = sort is method of list class.\n",
    "# sorted = is a build in fun used for sorting iterables(list,set,tuple,dictionary,str etc)\n",
    "# sorted work on ord of letter if capital letter in dataset that 1st priotise before small letter.\n",
    "\n",
    "l1=[10,2,4,5,85,89,25,4,6,4,222]\n",
    "l1.sort()\n",
    "print(l1)\n",
    "\n",
    "sorted(l1)\n",
    "print(l1)\n",
    "\n",
    "str2=\"rohitKADAM366\"                # sorted work on ord of letter if capital letter in dataset that 1st priotise before small letter.\n",
    "# str2.sort()\n",
    "# print(str2)\n",
    "\n",
    "print(sorted(str2))\n"
   ]
  },
  {
   "cell_type": "code",
   "execution_count": 56,
   "metadata": {},
   "outputs": [
    {
     "name": "stdout",
     "output_type": "stream",
     "text": [
      "[2, 5, 10, 22, 23, 24]\n",
      "[10, 2, 5, 24, 22, 23]\n",
      "['shanker', 'Rohit', 'Gita', 'SIta', 'ram', 'AB']\n",
      "['AB', 'ram', 'Gita', 'SIta', 'Rohit', 'shanker']\n",
      "[(100, 10), (200, 20), (300, 30)]\n"
     ]
    }
   ],
   "source": [
    "# Difference-2\n",
    "# Sort() the original list (modifies original list) - return None\n",
    "# sorted() return new modified sorted iterable.  - return new object\n",
    "\n",
    "l1=[10,2,5,24,22,23]\n",
    "t1=sorted(l1,reverse=False)  # That reverse the list\n",
    "print(t1)\n",
    "\n",
    "print(l1)\n",
    "\n",
    "l2=['Gita',\"Rohit\",'shanker',\"AB\",\"ram\",\"SIta\"]\n",
    "\n",
    "l3=sorted(l2,key=len,reverse=True)  \n",
    "l4=sorted(l2,key=len)             # for sorted on list datatype in list is same if l2 have 100 value then show error\n",
    "print(l3)\n",
    "print(l4)\n",
    "\n",
    "\n",
    "l5=[(200,20),(100,10),(300,30)]      #That list sorted by 1st value from tuple\n",
    "l6=sorted(l5)\n",
    "print(l6)"
   ]
  },
  {
   "cell_type": "code",
   "execution_count": 57,
   "metadata": {},
   "outputs": [
    {
     "name": "stdout",
     "output_type": "stream",
     "text": [
      "{100: 10, 200: 20, 300: 30}\n"
     ]
    }
   ],
   "source": [
    "List1=[[100, 10], [200, 20], [300, 30]]    # If nested dict have two value in each list then we can directly convert to Dict.\n",
    "\n",
    "print(dict(List1))"
   ]
  },
  {
   "cell_type": "code",
   "execution_count": 63,
   "metadata": {},
   "outputs": [
    {
     "name": "stdout",
     "output_type": "stream",
     "text": [
      "['a=2', 'b=23', 'name=prakash']\n",
      "{'a': '2', 'b': '23', 'name': 'prakash'}\n"
     ]
    }
   ],
   "source": [
    "query =  \"a=2&b=23&name=prakash\"\n",
    "# output = {'a': '2', 'b': '23', 'name': 'prakash'}\n",
    "\n",
    "list1=query.split('&')\n",
    "print(list1)\n",
    "\n",
    "dict3=[]\n",
    "for i in list1:\n",
    "    list2=i.split(\"=\")\n",
    "    dict3.append(list2)\n",
    "    \n",
    "print(dict(dict3))\n",
    "    \n",
    "\n",
    "\n"
   ]
  },
  {
   "cell_type": "code",
   "execution_count": 74,
   "metadata": {},
   "outputs": [
    {
     "name": "stdout",
     "output_type": "stream",
     "text": [
      "ShAnTanU\n"
     ]
    }
   ],
   "source": [
    "#  Alternate the case of each letter in  a given str and the 1st letter in uppercase?\n",
    "\n",
    "name=\"sHaNtANu\"\n",
    "\n",
    "name2=\"\"\n",
    "list1=list(name)\n",
    "name2=name2+list1[0].upper()\n",
    "for i in range(1,len(list1)):\n",
    "    name2=name2+list1[i].swapcase()\n",
    "\n",
    "print(name2)\n",
    "\n"
   ]
  },
  {
   "cell_type": "code",
   "execution_count": 80,
   "metadata": {},
   "outputs": [
    {
     "name": "stdout",
     "output_type": "stream",
     "text": [
      "ShAnTanU\n"
     ]
    }
   ],
   "source": [
    "name=\"sHaNtANu\"\n",
    "\n",
    "i=0\n",
    "str2=\"\"\n",
    "while i<len(name):\n",
    "    if i==0:\n",
    "        str2=str2+name[i].upper()\n",
    "\n",
    "    else:\n",
    "        str2=str2+name[i].swapcase()\n",
    "    \n",
    "    i+=1\n",
    "print(str2)\n",
    "\n"
   ]
  },
  {
   "cell_type": "code",
   "execution_count": 91,
   "metadata": {},
   "outputs": [
    {
     "name": "stdout",
     "output_type": "stream",
     "text": [
      "S\n"
     ]
    },
    {
     "data": {
      "text/plain": [
       "'ShAnTanU'"
      ]
     },
     "execution_count": 91,
     "metadata": {},
     "output_type": "execute_result"
    }
   ],
   "source": [
    "name=\"sHaNtANu\"\n",
    "\n",
    "a=chr(ord('s')-32)\n",
    "print(a)\n",
    "\n",
    "def func(name):\n",
    "    str2=\"\"\n",
    "    asc=ord(name[0])\n",
    "    if 64<=asc<=91:\n",
    "        str2=str2+name[0]\n",
    "    else:\n",
    "        str2=str2+chr(ord(name[0])-32)\n",
    "\n",
    "    for i in range(1,len(name)):\n",
    "        asc2=ord(name[i])\n",
    "        if 64<=asc2<91:\n",
    "            str2=str2+chr(ord(name[i])+32)\n",
    "        else:\n",
    "            str2=str2+chr(ord(name[i])-32)\n",
    "\n",
    "    return str2\n",
    "\n",
    "        \n",
    "\n",
    "func(name)\n",
    "\n"
   ]
  },
  {
   "cell_type": "code",
   "execution_count": 104,
   "metadata": {},
   "outputs": [
    {
     "name": "stdout",
     "output_type": "stream",
     "text": [
      "[2.45, 6, 12, 98, 123]\n"
     ]
    }
   ],
   "source": [
    "str1='AC*wv12n/:#e123we2..45oin (fwol6n#a98nfwb+owi'\n",
    "\n",
    "str2=\"\"\n",
    "list1=[]\n",
    "\n",
    "for ch in str1:\n",
    "    if ch.isdigit() or (ch==\".\" and \".\" not in str2):\n",
    "        str2=str2+ch\n",
    "    elif len(str2)!=0:\n",
    "        list1.append(eval(str2))\n",
    "        str2=\"\"\n",
    "\n",
    "list1.sort()        \n",
    "\n",
    "\n",
    "print(list1)        \n",
    "\n",
    "\n"
   ]
  },
  {
   "cell_type": "code",
   "execution_count": 120,
   "metadata": {},
   "outputs": [
    {
     "data": {
      "text/plain": [
       "(['1234668', '678899', '45669123'], ['python', 'java', 'hadoop'])"
      ]
     },
     "execution_count": 120,
     "metadata": {},
     "output_type": "execute_result"
    }
   ],
   "source": [
    "def strint(p):\n",
    "    \n",
    "    str_list=[]\n",
    "    int_list=[]\n",
    "    \n",
    "    for i in p: \n",
    "        str1=\"\"\n",
    "        int1=\"\"       \n",
    "        for j in i:\n",
    "            if j.isdigit():\n",
    "                str1=str1+str(j)\n",
    "            elif j.isalpha():\n",
    "                int1=int1+str(j)\n",
    "\n",
    "        str_list.append(str1)\n",
    "        int_list.append(int1)\n",
    "\n",
    "    return str_list,int_list            \n",
    "\n",
    "\n",
    "p=['1234python668','678java899','4566hadoop9123']\n",
    "\n",
    "strint(p)\n",
    "\n",
    "\n",
    "\n",
    "## Saurabh Jagtap code =14/11/2024\n",
    "\n",
    "# num_list = []\n",
    "# alpha_list = []\n",
    "# str1 = \"\"\n",
    "# str2 = \"\"\n",
    "# for i in p:\n",
    "#     for a in i:\n",
    "#         if a.isdigit():\n",
    "#             str1 += a\n",
    "#         elif a.isalpha():\n",
    "#             str2 += a\n",
    "#     else:\n",
    "#         if str1:\n",
    "#             num_list.append(str1)\n",
    "#             str1 = \"\"\n",
    "#         if str2:\n",
    "#             alpha_list.append(str2)\n",
    "#             str2 = \"\"\n",
    " \n",
    "             \n",
    "# print(num_list)\n",
    "# print(alpha_list)"
   ]
  },
  {
   "cell_type": "code",
   "execution_count": 124,
   "metadata": {},
   "outputs": [
    {
     "name": "stdout",
     "output_type": "stream",
     "text": [
      "84\n"
     ]
    }
   ],
   "source": [
    "# Print Second largesst no from list\n",
    "\n",
    "nums=[78,45,90,23,37,84]\n",
    "\n",
    "num1=nums[0]\n",
    "for i in range(1,len(nums)):\n",
    "    if num1<nums[i]:\n",
    "        num1=nums[i]\n",
    "\n",
    "\n",
    "for i in range(1,len(nums)):\n",
    "    num2=nums[0]\n",
    "    if nums[0]<nums[i] and nums[i]!=num1:\n",
    "        num2=nums[i]\n",
    "        print(num2)\n",
    "\n"
   ]
  },
  {
   "cell_type": "code",
   "execution_count": 136,
   "metadata": {},
   "outputs": [
    {
     "name": "stdout",
     "output_type": "stream",
     "text": [
      "abcaabbaaa\n"
     ]
    }
   ],
   "source": [
    "# print times of occurance\n",
    "\n",
    "str1='abcaba'\n",
    "# out='abcaabbaaa'\n",
    "\n",
    "str2=''\n",
    "counta=0\n",
    "countb=0\n",
    "countc=0\n",
    "for i in str1:\n",
    "    if i=='a' or i=='b' or i=='c':\n",
    "        if i=='a':\n",
    "            counta+=1\n",
    "            str2=str2+(i*counta)\n",
    "        elif i=='b':\n",
    "            countb+=1\n",
    "            str2=str2+(i*countb)\n",
    "        elif i=='c':\n",
    "            countc+=1\n",
    "            str2=str2+(i*countc)\n",
    "\n",
    "print(str2)\n",
    "\n",
    "\n",
    "\n"
   ]
  },
  {
   "cell_type": "code",
   "execution_count": 139,
   "metadata": {},
   "outputs": [
    {
     "name": "stdout",
     "output_type": "stream",
     "text": [
      "List contain sublist\n"
     ]
    }
   ],
   "source": [
    "# python program to check whether a list contain a sublist\n",
    "\n",
    "# list1=eval(input(\"Enter a list = \"))  #[12,45,[12,15,45,1],85,96,[45,85,2],'rohit']\n",
    "list1=[12,45,[12,15,45,1],85,96,[45,85,2],'rohit']\n",
    "\n",
    "for i in list1:\n",
    "    a=type(i)\n",
    "    if a==list:\n",
    "\n",
    "        print(\"List contain sublist\")\n",
    "        break\n",
    "\n",
    "\n"
   ]
  },
  {
   "cell_type": "code",
   "execution_count": 175,
   "metadata": {},
   "outputs": [
    {
     "name": "stdout",
     "output_type": "stream",
     "text": [
      "[('1', '5'), ('5', '6'), ('6', '4'), ('4', '6'), ('6', '9'), ('9', '4'), ('4', '9'), ('9', '4'), ('4', '9'), ('9', '4'), ('4', '9')]\n"
     ]
    }
   ],
   "source": [
    "str1='156469494949'\n",
    "\n",
    "list2=[]\n",
    "\n",
    "i=0\n",
    "\n",
    "while i<len(str1)-1:\n",
    "    list2.append((str1[i],str1[i+1]))\n",
    "    i+=1\n",
    "\n",
    "print(list2)\n",
    "\n"
   ]
  },
  {
   "cell_type": "code",
   "execution_count": 176,
   "metadata": {},
   "outputs": [
    {
     "name": "stdout",
     "output_type": "stream",
     "text": [
      "['Dict1', 'In', 'L1', 'List', 'List1', 'List2', 'Out', '_', '_108', '_110', '_111', '_112', '_113', '_114', '_115', '_116', '_117', '_118', '_119', '_120', '_37', '_88', '_89', '_90', '_91', '__', '___', '__builtin__', '__builtins__', '__doc__', '__loader__', '__name__', '__package__', '__spec__', '__vsc_ipynb_file__', '_dh', '_i', '_i1', '_i10', '_i100', '_i101', '_i102', '_i103', '_i104', '_i105', '_i106', '_i107', '_i108', '_i109', '_i11', '_i110', '_i111', '_i112', '_i113', '_i114', '_i115', '_i116', '_i117', '_i118', '_i119', '_i12', '_i120', '_i121', '_i122', '_i123', '_i124', '_i125', '_i126', '_i127', '_i128', '_i129', '_i13', '_i130', '_i131', '_i132', '_i133', '_i134', '_i135', '_i136', '_i137', '_i138', '_i139', '_i14', '_i140', '_i141', '_i142', '_i143', '_i144', '_i145', '_i146', '_i147', '_i148', '_i149', '_i15', '_i150', '_i151', '_i152', '_i153', '_i154', '_i155', '_i156', '_i157', '_i158', '_i159', '_i16', '_i160', '_i161', '_i162', '_i163', '_i164', '_i165', '_i166', '_i167', '_i168', '_i169', '_i17', '_i170', '_i171', '_i172', '_i173', '_i174', '_i175', '_i176', '_i18', '_i19', '_i2', '_i20', '_i21', '_i22', '_i23', '_i24', '_i25', '_i26', '_i27', '_i28', '_i29', '_i3', '_i30', '_i31', '_i32', '_i33', '_i34', '_i35', '_i36', '_i37', '_i38', '_i39', '_i4', '_i40', '_i41', '_i42', '_i43', '_i44', '_i45', '_i46', '_i47', '_i48', '_i49', '_i5', '_i50', '_i51', '_i52', '_i53', '_i54', '_i55', '_i56', '_i57', '_i58', '_i59', '_i6', '_i60', '_i61', '_i62', '_i63', '_i64', '_i65', '_i66', '_i67', '_i68', '_i69', '_i7', '_i70', '_i71', '_i72', '_i73', '_i74', '_i75', '_i76', '_i77', '_i78', '_i79', '_i8', '_i80', '_i81', '_i82', '_i83', '_i84', '_i85', '_i86', '_i87', '_i88', '_i89', '_i9', '_i90', '_i91', '_i92', '_i93', '_i94', '_i95', '_i96', '_i97', '_i98', '_i99', '_ih', '_ii', '_iii', '_oh', 'a', 'abc', 'add', 'alpha_list', 'arr', 'bonus', 'ch', 'char', 'count', 'count_dict', 'counta', 'countb', 'countc', 'd', 'data', 'dict1', 'dict3', 'exit', 'f1', 'f2', 'final_list', 'func', 'get_ipython', 'header', 'i', 'input', 'item', 'j', 'k', 'l1', 'l2', 'l3', 'l4', 'l5', 'l6', 'lenOfNum', 'list1', 'list2', 'lst', 'max1', 'modified_record', 'my_record', 'mystr', 'mystr2', 'n', 'name', 'name2', 'new_list', 'num', 'num1', 'num2', 'num_list', 'nums', 'open', 'p', 'perfect', 'query', 'quit', 'r', 'record', 'rectangle', 'result', 'run', 'salary', 'sleep', 'str1', 'str2', 'str3', 'str4', 'strint', 'sum', 't1', 'var', 'visted', 'word', 'word_list']\n"
     ]
    }
   ],
   "source": [
    "#  if __name__ == '__main__ ' | __main__ Usage in Python \n",
    "\n",
    "# __name__ this are special var \n",
    "\n",
    "# https://www.youtube.com/watch?v=9x48vK-QCfY&list=PLI4OVrCFuY5725OhoRi-G2YwnjKXh7v0F&index=65\n",
    "print(dir())"
   ]
  },
  {
   "cell_type": "code",
   "execution_count": null,
   "metadata": {},
   "outputs": [],
   "source": [
    "#  Python involves two main types of memory: 1.stack memory 2.heap (or dynamic) memory.\n",
    "\n",
    "1.Stack_memory = Static_/ slow  / Directly Access / compiler store that value ie. X=,Y=,def fun()\n",
    "\n",
    "2. Heap memory = Dynamic / Fast / by var access /   Interpriter store that value ie. 10,20, fun contain value\n",
    "\n",
    "\n",
    "# Summary=\n",
    "# Stack Memory: For function calls and local variables.\n",
    "# Heap Memory: For dynamic objects like lists, dictionaries, and instances, managed by garbage collection.\n",
    "# Garbage Collection: Python’s automatic memory manager for cleaning up unreferenced objects in heap memory.\n",
    "\n"
   ]
  },
  {
   "cell_type": "code",
   "execution_count": 179,
   "metadata": {},
   "outputs": [
    {
     "name": "stdout",
     "output_type": "stream",
     "text": [
      "Not Anagram\n"
     ]
    }
   ],
   "source": [
    "# Anagrams in Python --> same alpha but different order\n",
    "\n",
    "str1=\"abcd\"\n",
    "str2=\"cadb\"\n",
    "\n",
    "if sorted(str1)==sorted(str2):\n",
    "    print(\"Anagrams\")\n",
    "\n",
    "else:\n",
    "    print(\"Not Anagram\")"
   ]
  },
  {
   "cell_type": "code",
   "execution_count": 3,
   "metadata": {},
   "outputs": [
    {
     "data": {
      "text/plain": [
       "8"
      ]
     },
     "execution_count": 3,
     "metadata": {},
     "output_type": "execute_result"
    }
   ],
   "source": [
    "def abc(num1,num2):\n",
    "    result=2\n",
    "    count=0\n",
    "    while True:\n",
    "        result=result*num1\n",
    "        count+=1\n",
    "        if result==num2:\n",
    "            break\n",
    "\n",
    "    return count\n",
    "\n",
    "abc(2,512)"
   ]
  },
  {
   "cell_type": "code",
   "execution_count": 184,
   "metadata": {},
   "outputs": [],
   "source": [
    "# When to Use x Mode\n",
    "# To Avoid Overwriting: Use x mode when you want to ensure a file is created only if it doesn’t already exist.\n",
    "# Error Prevention: This is particularly useful in situations where overwriting an existing file could cause data loss.\n",
    "\n",
    "file = open('filename1.txt', mode='x')\n",
    "file.write('This is exclusive creation mode . that ')\n",
    "file.close()"
   ]
  },
  {
   "cell_type": "code",
   "execution_count": 4,
   "metadata": {},
   "outputs": [
    {
     "name": "stdout",
     "output_type": "stream",
     "text": [
      "abcdefghijklmnopqrstuvwxyz\n",
      "pe`T~#Kb\n"
     ]
    }
   ],
   "source": [
    "# Random Password Generator in Python\n",
    "\n",
    "import random\n",
    "import string\n",
    "\n",
    "lower=string.ascii_lowercase\n",
    "print(lower)\n",
    "upper=string.ascii_uppercase\n",
    "digit=string.digits\n",
    "pun=string.punctuation\n",
    "\n",
    "n=8\n",
    "\n",
    "password=lower+upper+digit+pun\n",
    "\n",
    "password1=random.sample(password,n)\n",
    "password2=''.join(password1)\n",
    "print(password2)"
   ]
  }
 ],
 "metadata": {
  "kernelspec": {
   "display_name": "Python 3",
   "language": "python",
   "name": "python3"
  },
  "language_info": {
   "codemirror_mode": {
    "name": "ipython",
    "version": 3
   },
   "file_extension": ".py",
   "mimetype": "text/x-python",
   "name": "python",
   "nbconvert_exporter": "python",
   "pygments_lexer": "ipython3",
   "version": "3.11.9"
  }
 },
 "nbformat": 4,
 "nbformat_minor": 2
}
