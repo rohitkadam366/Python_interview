{
 "cells": [
  {
   "cell_type": "code",
   "execution_count": null,
   "metadata": {},
   "outputs": [],
   "source": [
    "# https://chatgpt.com/c/67a11545-4448-8004-9f5f-25278e133164\n",
    "\n",
    "# https://chatgpt.com/g/g-cKXjWStaE-python/c/67a1e915-a978-8004-8cc1-43c5a5b0048c\n",
    "\n",
    "# https://prepinsta.com/interview-preparation/technical-interview-questions/python/"
   ]
  },
  {
   "cell_type": "code",
   "execution_count": 3,
   "metadata": {},
   "outputs": [
    {
     "name": "stdout",
     "output_type": "stream",
     "text": [
      "['t']\n"
     ]
    }
   ],
   "source": [
    "str1=\"RohIt\"\n",
    "str2=\"asmita\"\n",
    "\n",
    "commom_list=[]\n",
    "\n",
    "for char in str1:\n",
    "    for char1 in str2:\n",
    "        if char==char1:\n",
    "            commom_list.append(char)\n",
    "\n",
    "print(commom_list)\n"
   ]
  },
  {
   "cell_type": "code",
   "execution_count": null,
   "metadata": {},
   "outputs": [
    {
     "name": "stdout",
     "output_type": "stream",
     "text": [
      "1\n",
      "2\n",
      "3\n",
      "4\n",
      "5\n",
      "6\n"
     ]
    }
   ],
   "source": [
    "def prac_function(*args):\n",
    "    for ARG in args:\n",
    "        print(ARG)\n",
    "\n",
    "\n",
    "prac_function(1,2,3,4,5,6)  #Output: 1 2 3 4 5 6"
   ]
  },
  {
   "cell_type": "code",
   "execution_count": 8,
   "metadata": {},
   "outputs": [
    {
     "name": "stdout",
     "output_type": "stream",
     "text": [
      "<re.Match object; span=(0, 1), match='5'>\n"
     ]
    }
   ],
   "source": [
    "import re\n",
    "\n",
    "str1=\"5rohit\"\n",
    "print(re.match(r\"^\\d\",str1))\n",
    "# if re.match(r\"^\\d\",str1) is :\n",
    "#     print(\"jdj\")\n",
    "\n",
    "# print(match)"
   ]
  },
  {
   "cell_type": "code",
   "execution_count": 11,
   "metadata": {},
   "outputs": [
    {
     "name": "stdout",
     "output_type": "stream",
     "text": [
      "[]\n"
     ]
    }
   ],
   "source": [
    "import re\n",
    "\n",
    "text = \"SSN: 123-45-6789, Another: 987-65-4321\"\n",
    "\n",
    "pattern = re.compile(r\"\\d{3}-\\d{2}-\\d{3}\")\n",
    "\n",
    "print(pattern.findall(text))"
   ]
  },
  {
   "cell_type": "code",
   "execution_count": 12,
   "metadata": {},
   "outputs": [
    {
     "name": "stdout",
     "output_type": "stream",
     "text": [
      "['apple', ' banana', ' cherry', 'grape']\n",
      "['apple', ' banana', ' cherry', 'grape']\n"
     ]
    }
   ],
   "source": [
    "text = \"apple, banana; cherry|grape\"\n",
    "\n",
    "split_text = re.split(r\"[,;|]\",text)\n",
    "\n",
    "print(split_text)\n",
    "\n",
    "\n",
    "split_text = re.split(r\"[,;|]\", text)\n",
    "print(split_text)  # Output: ['apple', ' banana', ' cherry', 'grape']\n"
   ]
  },
  {
   "cell_type": "code",
   "execution_count": 15,
   "metadata": {},
   "outputs": [
    {
     "name": "stdout",
     "output_type": "stream",
     "text": [
      "False\n"
     ]
    }
   ],
   "source": [
    "def email_pattern(email):\n",
    "    pattern= r\"[a-zA-Z0-9._+-]+@[a-zA-Z0-9-]+\\.[a-zA-Z0-9-.]\"\n",
    "    return bool(re.match(pattern,email))\n",
    "\n",
    "print(email_pattern(\"rohitkadam@gmail.com\"))"
   ]
  },
  {
   "cell_type": "code",
   "execution_count": 21,
   "metadata": {},
   "outputs": [
    {
     "name": "stdout",
     "output_type": "stream",
     "text": [
      "notmatch\n"
     ]
    }
   ],
   "source": [
    "def email_pattern(email):\n",
    "    pattern= re.match(r\"[a-zA-Z0-9._+-]+@[a-zA-Z0-9-]+\\.[a-zA-Z0-9-.]\",email)\n",
    "    if pattern:\n",
    "        print(\"match\")\n",
    "    else:\n",
    "        print(\"notmatch\")\n",
    "\n",
    "\n",
    "email_pattern(\"rohitkadamgmail.com\")"
   ]
  },
  {
   "cell_type": "code",
   "execution_count": 22,
   "metadata": {},
   "outputs": [
    {
     "name": "stdout",
     "output_type": "stream",
     "text": [
      "['123-45-6789', '987-65-4321']\n",
      "<re.Match object; span=(5, 16), match='123-45-6789'>\n",
      "SSN: XXX-XX-XXXX, Another: XXX-XX-XXXX\n"
     ]
    }
   ],
   "source": [
    "import re\n",
    "\n",
    "# Compile the regex pattern once\n",
    "pattern = re.compile(r\"\\d{3}-\\d{2}-\\d{4}\")\n",
    "\n",
    "text = \"SSN: 123-45-6789, Another: 987-65-4321\"\n",
    "\n",
    "# Reuse the compiled pattern\n",
    "print(pattern.findall(text))   # Output: ['123-45-6789', '987-65-4321']\n",
    "print(pattern.search(text))    # Output: <re.Match object; span=(5, 16), match='123-45-6789'>\n",
    "print(pattern.sub(\"XXX-XX-XXXX\", text))  # Mask sensitive info\n"
   ]
  },
  {
   "cell_type": "code",
   "execution_count": 23,
   "metadata": {},
   "outputs": [
    {
     "name": "stdout",
     "output_type": "stream",
     "text": [
      "['25', '123', '456', '7890']\n"
     ]
    }
   ],
   "source": [
    "# ✅ Finds numbers in a string\n",
    "\n",
    "import re\n",
    "\n",
    "text = \"My age is 25 and my number is 123-456-7890.\"\n",
    "\n",
    "pattern = re.compile(r\"\\d+\")\n",
    "\n",
    "print(pattern.findall(text))"
   ]
  },
  {
   "cell_type": "code",
   "execution_count": 25,
   "metadata": {},
   "outputs": [
    {
     "name": "stdout",
     "output_type": "stream",
     "text": [
      "['25', '123', '456', '7890']\n"
     ]
    }
   ],
   "source": [
    "import re\n",
    "\n",
    "text = \"My age is 25 and my number is 123-456-7890.\"\n",
    "\n",
    "print(re.findall(r\"\\d+\",text))"
   ]
  },
  {
   "cell_type": "code",
   "execution_count": 27,
   "metadata": {},
   "outputs": [
    {
     "name": "stdout",
     "output_type": "stream",
     "text": [
      "['#Python', '#MachineLearning']\n",
      "['#Python', '#MachineLearning']\n"
     ]
    }
   ],
   "source": [
    "import re\n",
    "\n",
    "tweet = \"Loving #Python and #MachineLearning!\"\n",
    "pattern = re.compile(r\"#\\w+\")\n",
    "\n",
    "print(pattern.findall(tweet))  \n",
    "# Output: ['#Python', '#MachineLearning']\n",
    "\n",
    "print(re.findall(r\"#\\w+\",tweet))\n"
   ]
  },
  {
   "cell_type": "code",
   "execution_count": 28,
   "metadata": {},
   "outputs": [
    {
     "name": "stdout",
     "output_type": "stream",
     "text": [
      "Python is awesome!\n"
     ]
    }
   ],
   "source": [
    "import re\n",
    "\n",
    "text = \"Python    is   awesome!\"\n",
    "clean_text = re.sub(r\"\\s+\", \" \", text)\n",
    "\n",
    "print(clean_text)  \n",
    "# Output: \"Python is awesome!\"\n"
   ]
  },
  {
   "cell_type": "code",
   "execution_count": 29,
   "metadata": {},
   "outputs": [
    {
     "name": "stdout",
     "output_type": "stream",
     "text": [
      "I love Java! Java is amazing.\n"
     ]
    }
   ],
   "source": [
    "import re\n",
    "\n",
    "text = \"I love Python! Python is amazing.\"\n",
    "\n",
    "pattern = re.sub(r\"Python\",\"Java\",text)\n",
    "\n",
    "pattern2=re.compile()\n",
    "print(pattern)\n",
    "\n"
   ]
  }
 ],
 "metadata": {
  "kernelspec": {
   "display_name": "base",
   "language": "python",
   "name": "python3"
  },
  "language_info": {
   "codemirror_mode": {
    "name": "ipython",
    "version": 3
   },
   "file_extension": ".py",
   "mimetype": "text/x-python",
   "name": "python",
   "nbconvert_exporter": "python",
   "pygments_lexer": "ipython3",
   "version": "3.11.5"
  }
 },
 "nbformat": 4,
 "nbformat_minor": 2
}
