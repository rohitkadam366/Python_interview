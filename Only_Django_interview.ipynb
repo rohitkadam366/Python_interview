{
 "cells": [
  {
   "cell_type": "markdown",
   "metadata": {},
   "source": [
    "#   Django Interview"
   ]
  },
  {
   "cell_type": "markdown",
   "metadata": {},
   "source": [
    "<!-- https://devinterview.io/questions/web-and-mobile-development/django-interview-questions/ -->\n",
    "\n",
    "<!-- https://chatgpt.com/g/g-LCO79N7QT-django-copilot/c/679e6230-aea8-8004-b542-c129eba0db01 -->\n",
    "\n",
    "<!-- https://chatgpt.com/c/679e96db-1f08-8004-b7ea-cdbb7545ff35 -->\n",
    "\n",
    "<!-- https://hackr.io/blog/top-django-interview-questions-and-answers -->"
   ]
  },
  {
   "cell_type": "code",
   "execution_count": null,
   "metadata": {
    "vscode": {
     "languageId": "plaintext"
    }
   },
   "outputs": [],
   "source": []
  }
 ],
 "metadata": {
  "language_info": {
   "name": "python"
  }
 },
 "nbformat": 4,
 "nbformat_minor": 2
}
