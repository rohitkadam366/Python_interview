{
 "cells": [
  {
   "cell_type": "code",
   "execution_count": 9,
   "metadata": {},
   "outputs": [
    {
     "name": "stdout",
     "output_type": "stream",
     "text": [
      "[0, 1, 1, 2, 3, 5, 8, 13, 21, 34]\n"
     ]
    }
   ],
   "source": [
    "##  Write a fibonacchi serires number code by using python\n",
    "\n",
    "# n=input(\"Enter a number of term series = \")\n",
    "n=10\n",
    "\n",
    "first=0\n",
    "second=1\n",
    "fib_series=[]\n",
    "\n",
    "if n<=0:\n",
    "    print(\"Please enter a positive integer.\")\n",
    "\n",
    "if n==1:\n",
    "    fib_series.append(first)\n",
    "\n",
    "else:\n",
    "    for _ in range(n):\n",
    "        fib_series.append(first)\n",
    "        temp=first\n",
    "        first=second\n",
    "        second=temp+first\n",
    "        \n",
    "\n",
    "print(fib_series)\n",
    "\n",
    "\n",
    "\n"
   ]
  },
  {
   "cell_type": "code",
   "execution_count": 4,
   "metadata": {},
   "outputs": [
    {
     "name": "stdout",
     "output_type": "stream",
     "text": [
      "[0, 1, 1, 2, 3, 5, 8, 13, 21, 34]\n"
     ]
    }
   ],
   "source": [
    "n=10\n",
    "\n",
    "a,b=0,1\n",
    "\n",
    "list1=[]\n",
    "\n",
    "for _ in range(n):\n",
    "    list1.append(a)\n",
    "    #print(a,end=\" \")\n",
    "\n",
    "    a,b=b,a+b\n",
    "\n",
    "print(list1)"
   ]
  },
  {
   "cell_type": "code",
   "execution_count": 6,
   "metadata": {},
   "outputs": [
    {
     "name": "stdout",
     "output_type": "stream",
     "text": [
      "Rohit\n",
      "Rohit\n",
      "Rohit\n",
      "Rohit\n",
      "Rohit\n",
      "Rohit\n",
      "Rohit\n",
      "Rohit\n",
      "Rohit\n",
      "Rohit\n"
     ]
    }
   ],
   "source": [
    "## Write a program without using manually or for loop print 10times Rohit  --> That can possible by using Recursion.\n",
    "\n",
    "count=1\n",
    "\n",
    "def counter(name):\n",
    "    global count\n",
    "    if count<=10:\n",
    "        print(name)\n",
    "        count+=1\n",
    "        counter(name)\n",
    "        \n",
    "counter(\"Rohit\")"
   ]
  },
  {
   "cell_type": "code",
   "execution_count": null,
   "metadata": {},
   "outputs": [],
   "source": [
    "# Write a code that print iterated list without using for loop.\n",
    "\n",
    "# eval()  --> This function use for take input data as list,dict,set \n",
    "\n",
    "list1 = eval(input(\"Enter a List = \"))\n",
    "\n",
    "start = int(input(\"Entar a start index = \"))\n",
    "end = int(input(\"Enter a end index = \"))\n",
    "\n",
    "def iterator_list(list1,start,end):\n",
    "    if start<0 or start>=end:\n",
    "        return\n",
    "    \n",
    "    print(list1[start],end=\" \")\n",
    "    iterator_list(list1,start+1,end)\n",
    "    \n",
    "iterator_list(list1,start,end)"
   ]
  },
  {
   "cell_type": "code",
   "execution_count": 7,
   "metadata": {},
   "outputs": [],
   "source": [
    "# A menu-driven program in Python is a type of program that presents the user with a list of options (a menu) and allows them to select an option to perform a specific task. \n",
    "\n",
    "while True:\n",
    "    num1 = int(input(\"Enter a num1 = \"))\n",
    "    num2 = int(input(\"Enetr a 2nd num = \"))\n",
    "    \n",
    "    print(\"1.Addition\\n2.Substraction\\n3.Multipalication\\n4.Division\")\n",
    "    \n",
    "    choice = int(input(\"Choose from above = \"))\n",
    "    \n",
    "    if choice == 1:\n",
    "        print(\"Addision is \",num1+num2)\n",
    "        \n",
    "    elif choice == 2:\n",
    "        print(\"Substraction is = \",num1-num2)\n",
    "        \n",
    "    elif choice == 3:\n",
    "        print(\"Multipalication is =\",num1*num2)\n",
    "        \n",
    "    elif choice==4:\n",
    "        print(\"division is = \",num1/num2)\n",
    "        \n",
    "    ans=input(\"Are you Want Continue (y/n)= \")\n",
    "    \n",
    "    ans.lower()\n",
    "    if ans!='y':\n",
    "        break"
   ]
  },
  {
   "cell_type": "code",
   "execution_count": null,
   "metadata": {},
   "outputs": [
    {
     "name": "stdout",
     "output_type": "stream",
     "text": [
      "The factorial of 5 is 120\n"
     ]
    }
   ],
   "source": [
    "## In factorial of number code write by using recursion method in which we want recognize two condition 1st is basic means where to stop code and 2nd is recursion condition.\n",
    "\n",
    "# n = int(input(\"Enter a num =\"))0\n",
    "n=5\n",
    "\n",
    "def fact(n):\n",
    "    if n==0:\n",
    "        return 1        \n",
    "    else:\n",
    "        return n*fact(n-1)\n",
    "    \n",
    "if n<0:\n",
    "    print(\"Factorial of negative number cannot be Calculated.\")\n",
    "else:\n",
    "    result=fact(n)\n",
    "\n",
    "print(f'The factorial of {n} is {result}')"
   ]
  },
  {
   "cell_type": "code",
   "execution_count": 15,
   "metadata": {},
   "outputs": [
    {
     "ename": "ValueError",
     "evalue": "invalid literal for int() with base 10: ''",
     "output_type": "error",
     "traceback": [
      "\u001b[1;31m---------------------------------------------------------------------------\u001b[0m",
      "\u001b[1;31mValueError\u001b[0m                                Traceback (most recent call last)",
      "Cell \u001b[1;32mIn[15], line 15\u001b[0m\n\u001b[0;32m     12\u001b[0m     \u001b[38;5;28;01mreturn\u001b[39;00m \u001b[38;5;28;01mTrue\u001b[39;00m\n\u001b[0;32m     14\u001b[0m \u001b[38;5;28;01mwhile\u001b[39;00m \u001b[38;5;28;01mTrue\u001b[39;00m:\n\u001b[1;32m---> 15\u001b[0m     num1\u001b[38;5;241m=\u001b[39m\u001b[38;5;28mint\u001b[39m(\u001b[38;5;28minput\u001b[39m(\u001b[38;5;124m\"\u001b[39m\u001b[38;5;124mEnter a num1 = \u001b[39m\u001b[38;5;124m\"\u001b[39m))\n\u001b[0;32m     16\u001b[0m     num2 \u001b[38;5;241m=\u001b[39m \u001b[38;5;28mint\u001b[39m(\u001b[38;5;28minput\u001b[39m(\u001b[38;5;124m\"\u001b[39m\u001b[38;5;124mEnter a num2 = \u001b[39m\u001b[38;5;124m\"\u001b[39m))\n\u001b[0;32m     18\u001b[0m     \u001b[38;5;28;01mif\u001b[39;00m is_prime(num1) \u001b[38;5;129;01mand\u001b[39;00m is_prime(num2):\n",
      "\u001b[1;31mValueError\u001b[0m: invalid literal for int() with base 10: ''"
     ]
    }
   ],
   "source": [
    "##Python Program For Checking Twin Prime Numbers \n",
    "\n",
    "#step 1= Check both num are prime or not\n",
    "#step2 = Write prime number function.\n",
    "\n",
    "def is_prime(num):\n",
    "    if num<=1:\n",
    "        return False\n",
    "    for i in range(2,num):\n",
    "        if num%i==0:\n",
    "            return False\n",
    "    return True\n",
    "\n",
    "while True:\n",
    "    num1=int(input(\"Enter a num1 = \"))\n",
    "    num2 = int(input(\"Enter a num2 = \"))\n",
    "    \n",
    "    if is_prime(num1) and is_prime(num2):\n",
    "        if abs(num1-num2)==2:                                               #abs is use for positive number output\n",
    "            print(\"Enter number are twin prime num\")\n",
    "        else:\n",
    "            print(\"Enter number are not twin prime num.\")\n",
    "            \n",
    "    ans=input(\"Are you continue y/n  =\")\n",
    "    \n",
    "    if ans!='y':\n",
    "        break\n",
    "\n"
   ]
  },
  {
   "cell_type": "code",
   "execution_count": 1,
   "metadata": {},
   "outputs": [
    {
     "name": "stdout",
     "output_type": "stream",
     "text": [
      "rohiita\n"
     ]
    }
   ],
   "source": [
    "# Converting String in Lowercase Without Using String Method \n",
    "\n",
    "# In ASCII, uppercase letters (A-Z) have values from 65 to 90, and lowercase letters (a-z) have values from 97 to 122. The difference between an uppercase and lowercase letter is 32, so you can add 32 to the ASCII value of each uppercase letter to convert it to lowercase.\n",
    "\n",
    "# str1 = input(\"Enter a string = \")\n",
    "str1=\"RohiitA\"\n",
    "\n",
    "lower_str = \"\"\n",
    "\n",
    "for ch in str1:\n",
    "    asc = ord(ch)\n",
    "    # if asc>65 and asc<91:\n",
    "    if 65<=asc<=90:\n",
    "        lower_str = lower_str+chr(asc+32)\n",
    "    else:\n",
    "        lower_str = lower_str + chr(asc)\n",
    "        \n",
    "        \n",
    "print(lower_str)"
   ]
  },
  {
   "cell_type": "code",
   "execution_count": null,
   "metadata": {},
   "outputs": [],
   "source": []
  },
  {
   "cell_type": "markdown",
   "metadata": {},
   "source": [
    "###               Django Interview\n"
   ]
  },
  {
   "cell_type": "code",
   "execution_count": 4,
   "metadata": {},
   "outputs": [],
   "source": [
    "# 1.https://chatgpt.com/g/g-LCO79N7QT-django-copilot/c/679e6230-aea8-8004-b542-c129eba0db01\n",
    "\n"
   ]
  },
  {
   "cell_type": "code",
   "execution_count": null,
   "metadata": {},
   "outputs": [],
   "source": []
  }
 ],
 "metadata": {
  "kernelspec": {
   "display_name": "base",
   "language": "python",
   "name": "python3"
  },
  "language_info": {
   "codemirror_mode": {
    "name": "ipython",
    "version": 3
   },
   "file_extension": ".py",
   "mimetype": "text/x-python",
   "name": "python",
   "nbconvert_exporter": "python",
   "pygments_lexer": "ipython3",
   "version": "3.11.5"
  }
 },
 "nbformat": 4,
 "nbformat_minor": 2
}
