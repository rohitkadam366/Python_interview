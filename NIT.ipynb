{
 "cells": [
  {
   "cell_type": "code",
   "execution_count": null,
   "metadata": {},
   "outputs": [
    {
     "name": "stdout",
     "output_type": "stream",
     "text": [
      "pITIN\n",
      "Not\n"
     ]
    }
   ],
   "source": [
    "# 1.A palindrome number is a number that reads the same forward and backward.\n",
    "\n",
    "name = \"NITIp\"\n",
    "\n",
    "name2 = name[::-1]\n",
    "\n",
    "print(name2)\n",
    "\n",
    "if name == name2:\n",
    "    print(\"its palindrome Number\")\n",
    "else:\n",
    "    print(\"Not\")\n",
    "\n",
    "    "
   ]
  },
  {
   "cell_type": "code",
   "execution_count": null,
   "metadata": {},
   "outputs": [
    {
     "name": "stdout",
     "output_type": "stream",
     "text": [
      "its palindrome Number\n"
     ]
    }
   ],
   "source": [
    "def palino(x):\n",
    "    x2 = x[::-1]\n",
    "    if x==x2:\n",
    "        print(\"its palindrome Number\")\n",
    "    else:\n",
    "        print(\"Not\")\n",
    "\n",
    "# x= \n",
    "palino(\"NITIN\")"
   ]
  },
  {
   "cell_type": "code",
   "execution_count": null,
   "metadata": {},
   "outputs": [
    {
     "data": {
      "text/plain": [
       "False"
      ]
     },
     "execution_count": 19,
     "metadata": {},
     "output_type": "execute_result"
    }
   ],
   "source": [
    "# 1B --> using Indexing\n",
    "\n",
    "def palino(x):\n",
    "    n= len(x)\n",
    "    for i in range(n):\n",
    "        if x[i] != x[n-i-1]:\n",
    "            return False\n",
    "    return True\n",
    "\n",
    "\n",
    "palino(\"NITIp\")"
   ]
  },
  {
   "cell_type": "code",
   "execution_count": 1,
   "metadata": {},
   "outputs": [
    {
     "data": {
      "text/plain": [
       "True"
      ]
     },
     "execution_count": 1,
     "metadata": {},
     "output_type": "execute_result"
    }
   ],
   "source": [
    "# 1c.  While loop\n",
    "\n",
    "def palino(x):\n",
    "    n = len(x)\n",
    "    start = 0\n",
    "    last = n-1\n",
    "\n",
    "    while(start<last):\n",
    "        if x[start] == x[last]:\n",
    "            start +=1\n",
    "            last +=1 \n",
    "            return True\n",
    "        else:\n",
    "            return False\n",
    "\n",
    "             \n",
    "palino(\"tit\")   "
   ]
  },
  {
   "cell_type": "code",
   "execution_count": 4,
   "metadata": {},
   "outputs": [
    {
     "name": "stdout",
     "output_type": "stream",
     "text": [
      "1\n",
      "4\n",
      "5\n",
      "5\n",
      "4\n",
      "1\n"
     ]
    },
    {
     "data": {
      "text/plain": [
       "True"
      ]
     },
     "execution_count": 4,
     "metadata": {},
     "output_type": "execute_result"
    }
   ],
   "source": [
    "#  Palindrome of NUMBER\n",
    "\n",
    "def palino(num):\n",
    "    temp = num\n",
    "    rev_no = 0\n",
    "    while(temp>0):\n",
    "        digit = temp % 10\n",
    "        print(digit)\n",
    "        rev_no = rev_no*10 + digit\n",
    "        temp = temp //10\n",
    "\n",
    "    if num == rev_no:\n",
    "        return True\n",
    "    else:\n",
    "        return False\n",
    "\n",
    "\n",
    "num = 145541\n",
    "palino(num)"
   ]
  },
  {
   "cell_type": "code",
   "execution_count": null,
   "metadata": {},
   "outputs": [
    {
     "name": "stdout",
     "output_type": "stream",
     "text": [
      "[0, 1, 1, 2, 3, 5, 8, 13, 21, 34, 55, 89, 144]\n"
     ]
    }
   ],
   "source": [
    "# 2. Fibbonachi series = Each number is the sum of the previous two: F(n) = F(n-1) + F(n-2)\n",
    "\n",
    "# 1 for loop\n",
    "\n",
    "\n",
    "list1 = []\n",
    "def fibbonachi1(num):     # in that for loop fib series print upto num are no of iteration\n",
    "    a=0\n",
    "    b=1\n",
    "    for i in range(num):    # imp don't use len(num) bacause num is already int value\n",
    "        c = a+b\n",
    "        list1.append(a)\n",
    "        a,b = b,c        \n",
    "    print(list1)\n",
    "\n",
    "fibbonachi1(13)\n",
    "\n"
   ]
  },
  {
   "cell_type": "code",
   "execution_count": null,
   "metadata": {},
   "outputs": [
    {
     "name": "stdout",
     "output_type": "stream",
     "text": [
      "[0, 1, 1, 2, 3, 5, 8, 13, 21, 34, 55, 89]\n"
     ]
    }
   ],
   "source": [
    "list1 = []\n",
    "\n",
    "def fibbonachi2(num):      # In that fibbonachi series print upto num \n",
    "    a=0\n",
    "    b=1\n",
    "    while(b<num):\n",
    "        list1.append(a)\n",
    "        a,b=b,a+b  \n",
    "\n",
    "    print(list1)    \n",
    "\n",
    "num=15\n",
    "fibbonachi2(num)"
   ]
  },
  {
   "cell_type": "code",
   "execution_count": null,
   "metadata": {},
   "outputs": [
    {
     "name": "stdout",
     "output_type": "stream",
     "text": [
      "0\n",
      "1\n",
      "1\n",
      "2\n",
      "3\n",
      "5\n",
      "8\n",
      "13\n",
      "21\n",
      "34\n"
     ]
    }
   ],
   "source": [
    "#  Best approch\n",
    "\n",
    "def fibbonachi3(num):\n",
    "    if num<=0:\n",
    "        return num\n",
    "    elif num ==1:\n",
    "        return 1\n",
    "    else:\n",
    "        return (fibbonachi3(num-1)+fibbonachi3(num-2))\n",
    "\n",
    "\n",
    "for num in range(10):\n",
    "    print(fibbonachi3(num))\n",
    "\n",
    "\n",
    "    \n",
    "    \n"
   ]
  },
  {
   "cell_type": "code",
   "execution_count": null,
   "metadata": {},
   "outputs": [
    {
     "name": "stdout",
     "output_type": "stream",
     "text": [
      "a4b2c1d3e2\n"
     ]
    }
   ],
   "source": [
    "# 3.Compress String\n",
    "\n",
    "str1=\"aaaabbcdddee\"\n",
    "\n",
    "str2 = \"\"\n",
    "\n",
    "count = 0\n",
    "char1 = str1[0]\n",
    "\n",
    "for char in str1:\n",
    "    if char == char1:\n",
    "        count+=1\n",
    "    else:\n",
    "        str2 = str2+char1+str(count)\n",
    "        count=1\n",
    "        char1 =char\n",
    "\n",
    "\n",
    "str2 = str2+char1+str(count) \n",
    "print(str2)\n",
    "\n",
    "\n"
   ]
  }
 ],
 "metadata": {
  "kernelspec": {
   "display_name": "Python 3",
   "language": "python",
   "name": "python3"
  },
  "language_info": {
   "codemirror_mode": {
    "name": "ipython",
    "version": 3
   },
   "file_extension": ".py",
   "mimetype": "text/x-python",
   "name": "python",
   "nbconvert_exporter": "python",
   "pygments_lexer": "ipython3",
   "version": "3.11.0"
  }
 },
 "nbformat": 4,
 "nbformat_minor": 2
}
