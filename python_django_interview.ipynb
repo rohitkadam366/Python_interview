{
 "cells": [
  {
   "cell_type": "code",
   "execution_count": 9,
   "metadata": {},
   "outputs": [
    {
     "name": "stdout",
     "output_type": "stream",
     "text": [
      "[0, 1, 1, 2, 3, 5, 8, 13, 21, 34]\n"
     ]
    }
   ],
   "source": [
    "##  Write a fibonacchi serires number code by using python\n",
    "\n",
    "# n=input(\"Enter a number of term series = \")\n",
    "n=10\n",
    "\n",
    "first=0\n",
    "second=1\n",
    "fib_series=[]\n",
    "\n",
    "if n<=0:\n",
    "    print(\"Please enter a positive integer.\")\n",
    "\n",
    "if n==1:\n",
    "    fib_series.append(first)\n",
    "\n",
    "else:\n",
    "    for _ in range(n):\n",
    "        fib_series.append(first)\n",
    "        temp=first\n",
    "        first=second\n",
    "        second=temp+first\n",
    "        \n",
    "\n",
    "print(fib_series)\n",
    "\n",
    "\n",
    "\n"
   ]
  },
  {
   "cell_type": "code",
   "execution_count": 10,
   "metadata": {},
   "outputs": [
    {
     "name": "stdout",
     "output_type": "stream",
     "text": [
      "0 1 1 2 3 5 8 13 21 34 "
     ]
    }
   ],
   "source": [
    "n=10\n",
    "\n",
    "a,b=0,1\n",
    "\n",
    "for _ in range(n):\n",
    "    print(a,end=\" \")\n",
    "    a,b=b,a+b\n"
   ]
  }
 ],
 "metadata": {
  "kernelspec": {
   "display_name": "venv",
   "language": "python",
   "name": "python3"
  },
  "language_info": {
   "codemirror_mode": {
    "name": "ipython",
    "version": 3
   },
   "file_extension": ".py",
   "mimetype": "text/x-python",
   "name": "python",
   "nbconvert_exporter": "python",
   "pygments_lexer": "ipython3",
   "version": "3.11.5"
  }
 },
 "nbformat": 4,
 "nbformat_minor": 2
}
